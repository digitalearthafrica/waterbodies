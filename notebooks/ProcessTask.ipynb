{
 "cells": [
  {
   "cell_type": "code",
   "execution_count": null,
   "id": "66bd97c2-9229-4c2f-ad5c-061631306fbe",
   "metadata": {},
   "outputs": [],
   "source": [
    "import os \n",
    "\n",
    "del os.environ[\"AWS_ACCESS_KEY_ID\"]\n",
    "del os.environ[\"AWS_SECRET_ACCESS_KEY\"]\n",
    "\n",
    "from dotenv import load_dotenv\n",
    "# Path to env file containing the waterbodies database credentials\n",
    "# Only necessary on the Sandbox.\n",
    "env_path = \"/home/jovyan/.env\"\n",
    "load_dotenv(env_path)"
   ]
  },
  {
   "cell_type": "code",
   "execution_count": null,
   "id": "ca599e58-0147-42bb-a82f-03f973d06431",
   "metadata": {},
   "outputs": [],
   "source": [
    "import logging\n",
    "\n",
    "import click\n",
    "from datacube import Datacube\n",
    "\n",
    "from waterbodies.db import get_waterbodies_engine\n",
    "from waterbodies.io import check_directory_exists\n",
    "from waterbodies.logs import logging_setup\n",
    "from waterbodies.surface_area_change import (\n",
    "    add_waterbody_observations_to_db,\n",
    "    check_if_task_exists,\n",
    "    get_waterbody_observations,\n",
    ")"
   ]
  },
  {
   "cell_type": "code",
   "execution_count": null,
   "id": "6cf4cd1d-0b21-4ab8-8cf4-ee65d3705884",
   "metadata": {},
   "outputs": [],
   "source": [
    "verbose =  1\n",
    "overwrite = False\n",
    "historical_extent_rasters_directory = \"s3://deafrica-waterbodies-dev/waterbodies/v0.0.2/historical_extent_rasters/\"\n",
    "\n",
    "from uuid import UUID\n",
    "task = {('2016-04-05', 199, 34): [UUID('9b916e21-2229-5121-8333-0a8b3736d440')]}\n",
    "# task = {('2019-01-05', 214, 83): [UUID('5eccabe0-64d1-5b20-ad87-4e73505996cf'), UUID('b3f720d6-4bae-5f33-85a4-39516f3e4c0b')]}\n",
    "task"
   ]
  },
  {
   "cell_type": "code",
   "execution_count": null,
   "id": "972a2970-1a2b-45d3-849b-d5b4d3ba380a",
   "metadata": {},
   "outputs": [],
   "source": [
    "# Set up logging.\n",
    "logging_setup(verbose)\n",
    "_log = logging.getLogger(__name__)"
   ]
  },
  {
   "cell_type": "code",
   "execution_count": null,
   "id": "3c0f8b7b-f1fb-4b1a-a36a-172f04dbb4c6",
   "metadata": {},
   "outputs": [],
   "source": [
    "# Connect to the dev database \n",
    "engine = get_waterbodies_engine()\n",
    "engine"
   ]
  },
  {
   "cell_type": "code",
   "execution_count": null,
   "id": "ea6bef6b-dd82-4e39-b9e3-c84925b9c59d",
   "metadata": {},
   "outputs": [],
   "source": [
    "dc = Datacube(app=\"ProcessTask\")"
   ]
  },
  {
   "cell_type": "code",
   "execution_count": null,
   "id": "e11b73ca-8255-4e10-8133-acc5b93f1e59",
   "metadata": {},
   "outputs": [],
   "source": [
    "if not check_directory_exists(path=historical_extent_rasters_directory):\n",
    "    e = FileNotFoundError(f\"Directory {historical_extent_rasters_directory} does not exist!\")\n",
    "    _log.error(e)\n",
    "    raise e"
   ]
  },
  {
   "cell_type": "code",
   "execution_count": null,
   "id": "72781cfa-4685-451c-83f3-85614211f20c",
   "metadata": {},
   "outputs": [],
   "source": [
    "if not overwrite:\n",
    "    exists = check_if_task_exists(task=task, engine=engine)"
   ]
  },
  {
   "cell_type": "code",
   "execution_count": null,
   "id": "6736880a-3375-4bed-b842-5fc191c50c22",
   "metadata": {},
   "outputs": [],
   "source": [
    "if overwrite or not exists:\n",
    "    waterbody_observations = get_waterbody_observations(\n",
    "        task=task,\n",
    "        historical_extent_rasters_directory=historical_extent_rasters_directory,\n",
    "        dc=dc,\n",
    "    )\n",
    "    add_waterbody_observations_to_db(\n",
    "        waterbody_observations=waterbody_observations, engine=engine, update_rows=overwrite\n",
    "    )\n",
    "else:\n",
    "    _log.info(f\"Task {task} already exists, skipping\")"
   ]
  },
  {
   "cell_type": "code",
   "execution_count": null,
   "id": "9f913b96-f513-499e-ac80-c1a3c61112d7",
   "metadata": {},
   "outputs": [],
   "source": [
    "import pandas as pd\n",
    "# Write your SQL query to select the first 5 rows\n",
    "sql_query = \"SELECT * FROM waterbody_observations_2;\"\n",
    "\n",
    "# Execute the query and fetch the results into Pandas DataFrame\n",
    "df = pd.read_sql_query(sql_query, con=engine)\n",
    "\n",
    "df"
   ]
  },
  {
   "cell_type": "code",
   "execution_count": null,
   "id": "df38ec53-f234-4975-8902-20fcb688f64f",
   "metadata": {},
   "outputs": [],
   "source": []
  }
 ],
 "metadata": {
  "kernelspec": {
   "display_name": "Python 3 (ipykernel)",
   "language": "python",
   "name": "python3"
  },
  "language_info": {
   "codemirror_mode": {
    "name": "ipython",
    "version": 3
   },
   "file_extension": ".py",
   "mimetype": "text/x-python",
   "name": "python",
   "nbconvert_exporter": "python",
   "pygments_lexer": "ipython3",
   "version": "3.10.12"
  }
 },
 "nbformat": 4,
 "nbformat_minor": 5
}
