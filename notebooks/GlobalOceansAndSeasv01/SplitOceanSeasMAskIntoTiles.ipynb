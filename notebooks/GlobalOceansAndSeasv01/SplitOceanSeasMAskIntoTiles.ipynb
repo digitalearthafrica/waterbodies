{
 "cells": [
  {
   "cell_type": "code",
   "execution_count": 1,
   "id": "0cf4b499-15aa-468f-a876-bfac6bce0bb0",
   "metadata": {},
   "outputs": [
    {
     "data": {
      "text/plain": [
       "False"
      ]
     },
     "execution_count": 1,
     "metadata": {},
     "output_type": "execute_result"
    }
   ],
   "source": [
    "from dotenv import load_dotenv\n",
    "\n",
    "# Path to env file containing the waterbodies database credentials\n",
    "# Only necessary on the Sandbox.\n",
    "dotenv_path = \"/home/jovyan/.env\"\n",
    "load_dotenv(dotenv_path=dotenv_path, verbose=True, override=True)"
   ]
  },
  {
   "cell_type": "code",
   "execution_count": 2,
   "id": "7e3aa920-5dff-420b-a477-f53efec7a12f",
   "metadata": {},
   "outputs": [],
   "source": [
    "import logging\n",
    "import os\n",
    "import rioxarray\n",
    "from datacube import Datacube\n",
    "from tqdm import tqdm\n",
    "from waterbodies.logs import logging_setup\n",
    "from waterbodies.hopper import create_tasks_from_datasets\n",
    "from waterbodies.grid import WaterbodiesGrid\n",
    "from waterbodies.utils import rio_slurp_xarray\n",
    "from waterbodies.text import get_tile_id_str_from_tuple\n",
    "from waterbodies.io import is_s3_path"
   ]
  },
  {
   "cell_type": "code",
   "execution_count": 3,
   "id": "17748528-4a82-42e9-a551-de50dda0c0ee",
   "metadata": {},
   "outputs": [],
   "source": [
    "goas_raster_file = \"s3://deafrica-waterbodies-dev/waterbodies/v0.0.2/goas_v01/goas_v01.tif\"\n",
    "output_directory = \"s3://deafrica-waterbodies-dev/waterbodies/v0.0.2/goas_v01\""
   ]
  },
  {
   "cell_type": "code",
   "execution_count": 4,
   "id": "14aab93a-386c-4855-8096-007bf19bde46",
   "metadata": {},
   "outputs": [],
   "source": [
    "# Set up logging.\n",
    "logging_setup(3)\n",
    "_log = logging.getLogger(__name__)"
   ]
  },
  {
   "cell_type": "code",
   "execution_count": 5,
   "id": "030cdcdd-4398-4762-bd21-8fe3c1f09267",
   "metadata": {},
   "outputs": [],
   "source": [
    "if is_s3_path(output_directory):\n",
    "    # To avoid the error GDAL signalled an error: err_no=1, msg='w+ not supported for /vsis3,\n",
    "    # unless CPL_VSIL_USE_TEMP_FILE_FOR_RANDOM_WRITE is set to YES'\n",
    "    # when writing to s3 using rioxarray's rio.to_raster\n",
    "    os.environ[\"CPL_VSIL_USE_TEMP_FILE_FOR_RANDOM_WRITE\"] = \"YES\""
   ]
  },
  {
   "cell_type": "code",
   "execution_count": 6,
   "id": "b9dac63c-5e47-40d0-9ef5-a9c28b047e61",
   "metadata": {},
   "outputs": [
    {
     "name": "stderr",
     "output_type": "stream",
     "text": [
      "Processing 4461 datasets: 100%|██████████| 4461/4461 [00:02<00:00, 1714.65it/s]"
     ]
    },
    {
     "name": "stdout",
     "output_type": "stream",
     "text": [
      "[2024-04-24 19:00:38,733] {<timed exec>:12} INFO - Found 4456 tiles\n",
      "CPU times: user 3.3 s, sys: 87.8 ms, total: 3.39 s\n",
      "Wall time: 3.56 s\n"
     ]
    },
    {
     "name": "stderr",
     "output_type": "stream",
     "text": [
      "\n"
     ]
    }
   ],
   "source": [
    "%%time\n",
    "# Find all the WOfS All Time Summaries geoboxes\n",
    "dc = Datacube(app=\"tiles\")\n",
    "gridspec = WaterbodiesGrid().gridspec\n",
    "\n",
    "dc_query = dict(product=\"wofs_ls_summary_alltime\")\n",
    "datasets = dc.find_datasets(**dc_query)\n",
    "\n",
    "tasks = create_tasks_from_datasets(datasets=datasets, tile_ids_of_interest=None, bin_solar_day=False)\n",
    "tile_indices = [k for task in tasks for k,v in task.items()]\n",
    "tile_geoboxes = [gridspec.tile_geobox(tile_index=tile_index) for tile_index in tile_indices]\n",
    "tiles = list(zip(tile_indices, tile_geoboxes))\n",
    "_log.info(f\"Found {len(tiles)} tiles\")"
   ]
  },
  {
   "cell_type": "code",
   "execution_count": 7,
   "id": "3578ffea-caf5-4fc8-9b2c-19fe5c4a2c9b",
   "metadata": {},
   "outputs": [
    {
     "name": "stderr",
     "output_type": "stream",
     "text": [
      "Rasterizing tiles:  87%|████████▋ | 3889/4456 [52:08<07:36,  1.24it/s]  \n"
     ]
    },
    {
     "ename": "KeyboardInterrupt",
     "evalue": "",
     "output_type": "error",
     "traceback": [
      "\u001b[0;31m---------------------------------------------------------------------------\u001b[0m",
      "\u001b[0;31mKeyboardInterrupt\u001b[0m                         Traceback (most recent call last)",
      "Cell \u001b[0;32mIn[7], line 6\u001b[0m\n\u001b[1;32m      4\u001b[0m tile_index_str \u001b[38;5;241m=\u001b[39m get_tile_id_str_from_tuple(tile_index)\n\u001b[1;32m      5\u001b[0m tile_raster_fp \u001b[38;5;241m=\u001b[39m os\u001b[38;5;241m.\u001b[39mpath\u001b[38;5;241m.\u001b[39mjoin(output_directory, \u001b[38;5;124mf\u001b[39m\u001b[38;5;124m\"\u001b[39m\u001b[38;5;124mgoas_v01_\u001b[39m\u001b[38;5;132;01m{\u001b[39;00mtile_index_str\u001b[38;5;132;01m}\u001b[39;00m\u001b[38;5;124m.tif\u001b[39m\u001b[38;5;124m\"\u001b[39m)\n\u001b[0;32m----> 6\u001b[0m tile_raster \u001b[38;5;241m=\u001b[39m \u001b[43mrio_slurp_xarray\u001b[49m\u001b[43m(\u001b[49m\u001b[43mfname\u001b[49m\u001b[38;5;241;43m=\u001b[39;49m\u001b[43mgoas_raster_file\u001b[49m\u001b[43m,\u001b[49m\u001b[43m \u001b[49m\u001b[43mgbox\u001b[49m\u001b[38;5;241;43m=\u001b[39;49m\u001b[43mtile_geobox\u001b[49m\u001b[43m,\u001b[49m\u001b[43m \u001b[49m\u001b[43mresampling\u001b[49m\u001b[38;5;241;43m=\u001b[39;49m\u001b[38;5;124;43m\"\u001b[39;49m\u001b[38;5;124;43mbilinear\u001b[39;49m\u001b[38;5;124;43m\"\u001b[39;49m\u001b[43m)\u001b[49m\n\u001b[1;32m      7\u001b[0m tile_raster\u001b[38;5;241m.\u001b[39mrio\u001b[38;5;241m.\u001b[39mto_raster(raster_path\u001b[38;5;241m=\u001b[39mtile_raster_fp, compute\u001b[38;5;241m=\u001b[39m\u001b[38;5;28;01mTrue\u001b[39;00m)\n",
      "File \u001b[0;32m~/dev/waterbodies/waterbodies/utils.py:22\u001b[0m, in \u001b[0;36mrio_slurp_xarray\u001b[0;34m(fname, rgb, *args, **kw)\u001b[0m\n\u001b[1;32m     20\u001b[0m \u001b[38;5;28;01mif\u001b[39;00m \u001b[38;5;28mlen\u001b[39m(args) \u001b[38;5;241m==\u001b[39m \u001b[38;5;241m0\u001b[39m:\n\u001b[1;32m     21\u001b[0m     \u001b[38;5;28;01mif\u001b[39;00m \u001b[38;5;124m\"\u001b[39m\u001b[38;5;124mgbox\u001b[39m\u001b[38;5;124m\"\u001b[39m \u001b[38;5;129;01min\u001b[39;00m kw:\n\u001b[0;32m---> 22\u001b[0m         im, mm \u001b[38;5;241m=\u001b[39m \u001b[43mrio_slurp_reproject\u001b[49m\u001b[43m(\u001b[49m\u001b[43mfname\u001b[49m\u001b[43m,\u001b[49m\u001b[43m \u001b[49m\u001b[38;5;241;43m*\u001b[39;49m\u001b[38;5;241;43m*\u001b[39;49m\u001b[43mkw\u001b[49m\u001b[43m)\u001b[49m\n\u001b[1;32m     23\u001b[0m     \u001b[38;5;28;01melse\u001b[39;00m:\n\u001b[1;32m     24\u001b[0m         im, mm \u001b[38;5;241m=\u001b[39m rio_slurp_read(fname, \u001b[38;5;241m*\u001b[39m\u001b[38;5;241m*\u001b[39mkw)\n",
      "File \u001b[0;32m~/.local/lib/python3.10/site-packages/datacube/testutils/io.py:309\u001b[0m, in \u001b[0;36mrio_slurp_reproject\u001b[0;34m(fname, gbox, dtype, dst_nodata, **kw)\u001b[0m\n\u001b[1;32m    305\u001b[0m     dst_nodata \u001b[38;5;241m=\u001b[39m \u001b[38;5;241m0\u001b[39m\n\u001b[1;32m    307\u001b[0m pix \u001b[38;5;241m=\u001b[39m np\u001b[38;5;241m.\u001b[39mfull(shape, dst_nodata, dtype\u001b[38;5;241m=\u001b[39mdtype)\n\u001b[0;32m--> 309\u001b[0m \u001b[43mreproject\u001b[49m\u001b[43m(\u001b[49m\u001b[43msrc_band\u001b[49m\u001b[43m,\u001b[49m\u001b[43m \u001b[49m\u001b[43mpix\u001b[49m\u001b[43m,\u001b[49m\n\u001b[1;32m    310\u001b[0m \u001b[43m          \u001b[49m\u001b[43mdst_nodata\u001b[49m\u001b[38;5;241;43m=\u001b[39;49m\u001b[43mdst_nodata\u001b[49m\u001b[43m,\u001b[49m\n\u001b[1;32m    311\u001b[0m \u001b[43m          \u001b[49m\u001b[43mdst_transform\u001b[49m\u001b[38;5;241;43m=\u001b[39;49m\u001b[43mgbox\u001b[49m\u001b[38;5;241;43m.\u001b[39;49m\u001b[43mtransform\u001b[49m\u001b[43m,\u001b[49m\n\u001b[1;32m    312\u001b[0m \u001b[43m          \u001b[49m\u001b[43mdst_crs\u001b[49m\u001b[38;5;241;43m=\u001b[39;49m\u001b[38;5;28;43mstr\u001b[39;49m\u001b[43m(\u001b[49m\u001b[43mgbox\u001b[49m\u001b[38;5;241;43m.\u001b[39;49m\u001b[43mcrs\u001b[49m\u001b[43m)\u001b[49m\u001b[43m,\u001b[49m\n\u001b[1;32m    313\u001b[0m \u001b[43m          \u001b[49m\u001b[38;5;241;43m*\u001b[39;49m\u001b[38;5;241;43m*\u001b[39;49m\u001b[43mkw\u001b[49m\u001b[43m)\u001b[49m\n\u001b[1;32m    315\u001b[0m meta \u001b[38;5;241m=\u001b[39m src\u001b[38;5;241m.\u001b[39mmeta\n\u001b[1;32m    316\u001b[0m meta[\u001b[38;5;124m'\u001b[39m\u001b[38;5;124msrc_gbox\u001b[39m\u001b[38;5;124m'\u001b[39m] \u001b[38;5;241m=\u001b[39m rio_geobox(meta)\n",
      "File \u001b[0;32m/usr/local/lib/python3.10/dist-packages/rasterio/env.py:398\u001b[0m, in \u001b[0;36mensure_env.<locals>.wrapper\u001b[0;34m(*args, **kwds)\u001b[0m\n\u001b[1;32m    395\u001b[0m \u001b[38;5;129m@wraps\u001b[39m(f)\n\u001b[1;32m    396\u001b[0m \u001b[38;5;28;01mdef\u001b[39;00m \u001b[38;5;21mwrapper\u001b[39m(\u001b[38;5;241m*\u001b[39margs, \u001b[38;5;241m*\u001b[39m\u001b[38;5;241m*\u001b[39mkwds):\n\u001b[1;32m    397\u001b[0m     \u001b[38;5;28;01mif\u001b[39;00m local\u001b[38;5;241m.\u001b[39m_env:\n\u001b[0;32m--> 398\u001b[0m         \u001b[38;5;28;01mreturn\u001b[39;00m \u001b[43mf\u001b[49m\u001b[43m(\u001b[49m\u001b[38;5;241;43m*\u001b[39;49m\u001b[43margs\u001b[49m\u001b[43m,\u001b[49m\u001b[43m \u001b[49m\u001b[38;5;241;43m*\u001b[39;49m\u001b[38;5;241;43m*\u001b[39;49m\u001b[43mkwds\u001b[49m\u001b[43m)\u001b[49m\n\u001b[1;32m    399\u001b[0m     \u001b[38;5;28;01melse\u001b[39;00m:\n\u001b[1;32m    400\u001b[0m         \u001b[38;5;28;01mwith\u001b[39;00m Env\u001b[38;5;241m.\u001b[39mfrom_defaults():\n",
      "File \u001b[0;32m/usr/local/lib/python3.10/dist-packages/rasterio/warp.py:344\u001b[0m, in \u001b[0;36mreproject\u001b[0;34m(source, destination, src_transform, gcps, rpcs, src_crs, src_nodata, dst_transform, dst_crs, dst_nodata, dst_resolution, src_alpha, dst_alpha, resampling, num_threads, init_dest_nodata, warp_mem_limit, **kwargs)\u001b[0m\n\u001b[1;32m    340\u001b[0m         destination \u001b[38;5;241m=\u001b[39m np\u001b[38;5;241m.\u001b[39mempty((\u001b[38;5;28mint\u001b[39m(dst_count), \u001b[38;5;28mint\u001b[39m(dst_height), \u001b[38;5;28mint\u001b[39m(dst_width)),\n\u001b[1;32m    341\u001b[0m                                dtype\u001b[38;5;241m=\u001b[39msource\u001b[38;5;241m.\u001b[39mdtype)\n\u001b[1;32m    343\u001b[0m \u001b[38;5;66;03m# Call the function in our extension module.\u001b[39;00m\n\u001b[0;32m--> 344\u001b[0m \u001b[43m_reproject\u001b[49m\u001b[43m(\u001b[49m\n\u001b[1;32m    345\u001b[0m \u001b[43m    \u001b[49m\u001b[43msource\u001b[49m\u001b[43m,\u001b[49m\u001b[43m \u001b[49m\u001b[43mdestination\u001b[49m\u001b[43m,\u001b[49m\u001b[43m \u001b[49m\u001b[43msrc_transform\u001b[49m\u001b[38;5;241;43m=\u001b[39;49m\u001b[43msrc_transform\u001b[49m\u001b[43m,\u001b[49m\u001b[43m \u001b[49m\u001b[43mgcps\u001b[49m\u001b[38;5;241;43m=\u001b[39;49m\u001b[43mgcps\u001b[49m\u001b[43m,\u001b[49m\u001b[43m \u001b[49m\u001b[43mrpcs\u001b[49m\u001b[38;5;241;43m=\u001b[39;49m\u001b[43mrpcs\u001b[49m\u001b[43m,\u001b[49m\n\u001b[1;32m    346\u001b[0m \u001b[43m    \u001b[49m\u001b[43msrc_crs\u001b[49m\u001b[38;5;241;43m=\u001b[39;49m\u001b[43msrc_crs\u001b[49m\u001b[43m,\u001b[49m\u001b[43m \u001b[49m\u001b[43msrc_nodata\u001b[49m\u001b[38;5;241;43m=\u001b[39;49m\u001b[43msrc_nodata\u001b[49m\u001b[43m,\u001b[49m\u001b[43m \u001b[49m\u001b[43mdst_transform\u001b[49m\u001b[38;5;241;43m=\u001b[39;49m\u001b[43mdst_transform\u001b[49m\u001b[43m,\u001b[49m\n\u001b[1;32m    347\u001b[0m \u001b[43m    \u001b[49m\u001b[43mdst_crs\u001b[49m\u001b[38;5;241;43m=\u001b[39;49m\u001b[43mdst_crs\u001b[49m\u001b[43m,\u001b[49m\u001b[43m \u001b[49m\u001b[43mdst_nodata\u001b[49m\u001b[38;5;241;43m=\u001b[39;49m\u001b[43mdst_nodata\u001b[49m\u001b[43m,\u001b[49m\u001b[43m \u001b[49m\u001b[43mdst_alpha\u001b[49m\u001b[38;5;241;43m=\u001b[39;49m\u001b[43mdst_alpha\u001b[49m\u001b[43m,\u001b[49m\n\u001b[1;32m    348\u001b[0m \u001b[43m    \u001b[49m\u001b[43msrc_alpha\u001b[49m\u001b[38;5;241;43m=\u001b[39;49m\u001b[43msrc_alpha\u001b[49m\u001b[43m,\u001b[49m\u001b[43m \u001b[49m\u001b[43mresampling\u001b[49m\u001b[38;5;241;43m=\u001b[39;49m\u001b[43mresampling\u001b[49m\u001b[43m,\u001b[49m\n\u001b[1;32m    349\u001b[0m \u001b[43m    \u001b[49m\u001b[43minit_dest_nodata\u001b[49m\u001b[38;5;241;43m=\u001b[39;49m\u001b[43minit_dest_nodata\u001b[49m\u001b[43m,\u001b[49m\u001b[43m \u001b[49m\u001b[43mnum_threads\u001b[49m\u001b[38;5;241;43m=\u001b[39;49m\u001b[43mnum_threads\u001b[49m\u001b[43m,\u001b[49m\n\u001b[1;32m    350\u001b[0m \u001b[43m    \u001b[49m\u001b[43mwarp_mem_limit\u001b[49m\u001b[38;5;241;43m=\u001b[39;49m\u001b[43mwarp_mem_limit\u001b[49m\u001b[43m,\u001b[49m\u001b[43m \u001b[49m\u001b[38;5;241;43m*\u001b[39;49m\u001b[38;5;241;43m*\u001b[39;49m\u001b[43mkwargs\u001b[49m\u001b[43m)\u001b[49m\n\u001b[1;32m    352\u001b[0m \u001b[38;5;28;01mreturn\u001b[39;00m destination, dst_transform\n",
      "File \u001b[0;32mrasterio/_warp.pyx:591\u001b[0m, in \u001b[0;36mrasterio._warp._reproject\u001b[0;34m()\u001b[0m\n",
      "File \u001b[0;32m/usr/local/lib/python3.10/dist-packages/rasterio/dtypes.py:185\u001b[0m, in \u001b[0;36mis_ndarray\u001b[0;34m(array)\u001b[0m\n\u001b[1;32m    181\u001b[0m             \u001b[38;5;28;01mreturn\u001b[39;00m float32\n\u001b[1;32m    182\u001b[0m         \u001b[38;5;28;01mreturn\u001b[39;00m float64\n\u001b[0;32m--> 185\u001b[0m \u001b[38;5;28;01mdef\u001b[39;00m \u001b[38;5;21mis_ndarray\u001b[39m(array):\n\u001b[1;32m    186\u001b[0m \u001b[38;5;250m    \u001b[39m\u001b[38;5;124;03m\"\"\"Check if array is a ndarray.\"\"\"\u001b[39;00m\n\u001b[1;32m    187\u001b[0m     \u001b[38;5;28;01mimport\u001b[39;00m \u001b[38;5;21;01mnumpy\u001b[39;00m \u001b[38;5;28;01mas\u001b[39;00m \u001b[38;5;21;01mnp\u001b[39;00m\n",
      "\u001b[0;31mKeyboardInterrupt\u001b[0m: "
     ]
    }
   ],
   "source": [
    "with tqdm(iterable=tiles, desc=\"Rasterizing tiles\", total=len(tiles)) as tiles:\n",
    "    for tile  in tiles:\n",
    "        tile_index, tile_geobox = tile\n",
    "        tile_index_str = get_tile_id_str_from_tuple(tile_index)\n",
    "        tile_raster_fp = os.path.join(output_directory, f\"goas_v01_{tile_index_str}.tif\")\n",
    "        tile_raster = rio_slurp_xarray(fname=goas_raster_file, gbox=tile_geobox, resampling=\"bilinear\")\n",
    "        tile_raster.rio.to_raster(raster_path=tile_raster_fp, compute=True)"
   ]
  }
 ],
 "metadata": {
  "kernelspec": {
   "display_name": "Python 3 (ipykernel)",
   "language": "python",
   "name": "python3"
  },
  "language_info": {
   "codemirror_mode": {
    "name": "ipython",
    "version": 3
   },
   "file_extension": ".py",
   "mimetype": "text/x-python",
   "name": "python",
   "nbconvert_exporter": "python",
   "pygments_lexer": "ipython3",
   "version": "3.10.12"
  }
 },
 "nbformat": 4,
 "nbformat_minor": 5
}
