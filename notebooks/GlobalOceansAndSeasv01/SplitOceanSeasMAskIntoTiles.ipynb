{
 "cells": [
  {
   "cell_type": "code",
   "execution_count": 1,
   "id": "0cf4b499-15aa-468f-a876-bfac6bce0bb0",
   "metadata": {},
   "outputs": [
    {
     "data": {
      "text/plain": [
       "True"
      ]
     },
     "execution_count": 1,
     "metadata": {},
     "output_type": "execute_result"
    }
   ],
   "source": [
    "from dotenv import load_dotenv\n",
    "\n",
    "# Path to env file containing the waterbodies database credentials\n",
    "# Only necessary on the Sandbox.\n",
    "dotenv_path = \"/home/jovyan/.env\"\n",
    "load_dotenv(dotenv_path=dotenv_path, verbose=True, override=True)"
   ]
  },
  {
   "cell_type": "code",
   "execution_count": 2,
   "id": "7e3aa920-5dff-420b-a477-f53efec7a12f",
   "metadata": {},
   "outputs": [],
   "source": [
    "import logging\n",
    "import os\n",
    "import rioxarray\n",
    "from datacube import Datacube\n",
    "from tqdm import tqdm\n",
    "from waterbodies.logs import logging_setup\n",
    "from waterbodies.hopper import create_tasks_from_datasets\n",
    "from waterbodies.grid import WaterbodiesGrid\n",
    "from waterbodies.utils import rio_slurp_xarray\n",
    "from waterbodies.text import get_tile_id_str_from_tuple\n",
    "from waterbodies.io import is_s3_path"
   ]
  },
  {
   "cell_type": "code",
   "execution_count": 3,
   "id": "17748528-4a82-42e9-a551-de50dda0c0ee",
   "metadata": {},
   "outputs": [],
   "source": [
    "goas_raster_file = \"s3://deafrica-waterbodies-dev/waterbodies/v0.0.2/goas_v01/goas_v01.tif\"\n",
    "output_directory = \"s3://deafrica-waterbodies-dev/waterbodies/v0.0.2/goas_v01\""
   ]
  },
  {
   "cell_type": "code",
   "execution_count": 4,
   "id": "14aab93a-386c-4855-8096-007bf19bde46",
   "metadata": {},
   "outputs": [],
   "source": [
    "# Set up logging.\n",
    "logging_setup(3)\n",
    "_log = logging.getLogger(__name__)"
   ]
  },
  {
   "cell_type": "code",
   "execution_count": 5,
   "id": "030cdcdd-4398-4762-bd21-8fe3c1f09267",
   "metadata": {},
   "outputs": [],
   "source": [
    "if is_s3_path(output_directory):\n",
    "    # To avoid the error GDAL signalled an error: err_no=1, msg='w+ not supported for /vsis3,\n",
    "    # unless CPL_VSIL_USE_TEMP_FILE_FOR_RANDOM_WRITE is set to YES'\n",
    "    # when writing to s3 using rioxarray's rio.to_raster\n",
    "    os.environ[\"CPL_VSIL_USE_TEMP_FILE_FOR_RANDOM_WRITE\"] = \"YES\""
   ]
  },
  {
   "cell_type": "code",
   "execution_count": 6,
   "id": "b9dac63c-5e47-40d0-9ef5-a9c28b047e61",
   "metadata": {},
   "outputs": [
    {
     "name": "stderr",
     "output_type": "stream",
     "text": [
      "Processing 4461 datasets: 100%|██████████| 4461/4461 [00:02<00:00, 1729.08it/s]"
     ]
    },
    {
     "name": "stdout",
     "output_type": "stream",
     "text": [
      "[2024-04-24 21:03:22,243] {<timed exec>:12} INFO - Found 4456 tiles\n",
      "CPU times: user 3.27 s, sys: 89.3 ms, total: 3.36 s\n",
      "Wall time: 3.7 s\n"
     ]
    },
    {
     "name": "stderr",
     "output_type": "stream",
     "text": [
      "\n"
     ]
    }
   ],
   "source": [
    "%%time\n",
    "# Find all the WOfS All Time Summaries geoboxes\n",
    "dc = Datacube(app=\"tiles\")\n",
    "gridspec = WaterbodiesGrid().gridspec\n",
    "\n",
    "dc_query = dict(product=\"wofs_ls_summary_alltime\")\n",
    "datasets = dc.find_datasets(**dc_query)\n",
    "\n",
    "tasks = create_tasks_from_datasets(datasets=datasets, tile_ids_of_interest=None, bin_solar_day=False)\n",
    "tile_indices = [k for task in tasks for k,v in task.items()]\n",
    "tile_geoboxes = [gridspec.tile_geobox(tile_index=tile_index) for tile_index in tile_indices]\n",
    "tiles = list(zip(tile_indices, tile_geoboxes))\n",
    "_log.info(f\"Found {len(tiles)} tiles\")"
   ]
  },
  {
   "cell_type": "code",
   "execution_count": 7,
   "id": "3578ffea-caf5-4fc8-9b2c-19fe5c4a2c9b",
   "metadata": {},
   "outputs": [
    {
     "name": "stderr",
     "output_type": "stream",
     "text": [
      "Rasterizing tiles: 100%|██████████| 4456/4456 [56:22<00:00,  1.32it/s]\n"
     ]
    }
   ],
   "source": [
    "with tqdm(iterable=tiles, desc=\"Rasterizing tiles\", total=len(tiles)) as tiles:\n",
    "    for tile  in tiles:\n",
    "        tile_index, tile_geobox = tile\n",
    "        tile_index_str = get_tile_id_str_from_tuple(tile_index)\n",
    "        tile_raster_fp = os.path.join(output_directory, f\"goas_v01_{tile_index_str}.tif\")\n",
    "        tile_raster = rio_slurp_xarray(fname=goas_raster_file, gbox=tile_geobox, resampling=\"bilinear\")\n",
    "        tile_raster.rio.to_raster(raster_path=tile_raster_fp, compute=True)"
   ]
  }
 ],
 "metadata": {
  "kernelspec": {
   "display_name": "Python 3 (ipykernel)",
   "language": "python",
   "name": "python3"
  },
  "language_info": {
   "codemirror_mode": {
    "name": "ipython",
    "version": 3
   },
   "file_extension": ".py",
   "mimetype": "text/x-python",
   "name": "python",
   "nbconvert_exporter": "python",
   "pygments_lexer": "ipython3",
   "version": "3.10.12"
  }
 },
 "nbformat": 4,
 "nbformat_minor": 5
}
