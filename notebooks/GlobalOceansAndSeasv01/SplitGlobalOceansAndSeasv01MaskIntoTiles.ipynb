{
 "cells": [
  {
   "cell_type": "markdown",
   "id": "7a8a9021-c350-44b7-af88-6271a191f01a",
   "metadata": {},
   "source": [
    "# Split Global Oceans and Seas v01 (2021-12-14) Mask into Tiles"
   ]
  },
  {
   "cell_type": "code",
   "execution_count": 1,
   "id": "0cf4b499-15aa-468f-a876-bfac6bce0bb0",
   "metadata": {},
   "outputs": [
    {
     "data": {
      "text/plain": [
       "True"
      ]
     },
     "execution_count": 1,
     "metadata": {},
     "output_type": "execute_result"
    }
   ],
   "source": [
    "from dotenv import load_dotenv\n",
    "\n",
    "# Path to env file containing the waterbodies database credentials\n",
    "# Only necessary on the Sandbox.\n",
    "dotenv_path = \"/home/jovyan/.env\"\n",
    "load_dotenv(dotenv_path=dotenv_path, verbose=True, override=True)"
   ]
  },
  {
   "cell_type": "code",
   "execution_count": 2,
   "id": "7e3aa920-5dff-420b-a477-f53efec7a12f",
   "metadata": {},
   "outputs": [],
   "source": [
    "import logging\n",
    "import os\n",
    "\n",
    "import numpy as np\n",
    "import rioxarray\n",
    "from datacube import Datacube\n",
    "from odc.geo.xr import to_cog\n",
    "from tqdm import tqdm\n",
    "from waterbodies.grid import WaterbodiesGrid\n",
    "from waterbodies.hopper import create_tasks_from_datasets\n",
    "from waterbodies.io import get_filesystem, is_s3_path\n",
    "from waterbodies.logs import logging_setup\n",
    "from waterbodies.text import get_tile_index_str_from_tuple\n",
    "from waterbodies.utils import rio_slurp_xarray"
   ]
  },
  {
   "cell_type": "code",
   "execution_count": 3,
   "id": "17748528-4a82-42e9-a551-de50dda0c0ee",
   "metadata": {},
   "outputs": [],
   "source": [
    "goas_raster_file = \"s3://deafrica-waterbodies-dev/waterbodies/v0.0.2/land_sea_masks/goas_v01.tif\"\n",
    "output_directory = \"s3://deafrica-waterbodies-dev/waterbodies/v0.0.2/goas_v01/\""
   ]
  },
  {
   "cell_type": "code",
   "execution_count": 4,
   "id": "14aab93a-386c-4855-8096-007bf19bde46",
   "metadata": {},
   "outputs": [],
   "source": [
    "# Set up logging.\n",
    "logging_setup(3)\n",
    "_log = logging.getLogger(__name__)"
   ]
  },
  {
   "cell_type": "code",
   "execution_count": 5,
   "id": "030cdcdd-4398-4762-bd21-8fe3c1f09267",
   "metadata": {},
   "outputs": [],
   "source": [
    "if is_s3_path(output_directory):\n",
    "    # To avoid the error GDAL signalled an error: err_no=1, msg='w+ not supported for /vsis3,\n",
    "    # unless CPL_VSIL_USE_TEMP_FILE_FOR_RANDOM_WRITE is set to YES'\n",
    "    # when writing to s3 using rioxarray's rio.to_raster\n",
    "    os.environ[\"CPL_VSIL_USE_TEMP_FILE_FOR_RANDOM_WRITE\"] = \"YES\""
   ]
  },
  {
   "cell_type": "code",
   "execution_count": 6,
   "id": "b9dac63c-5e47-40d0-9ef5-a9c28b047e61",
   "metadata": {},
   "outputs": [
    {
     "name": "stderr",
     "output_type": "stream",
     "text": [
      "Processing 4461 datasets: 100%|██████████| 4461/4461 [00:02<00:00, 1681.73it/s]\n"
     ]
    },
    {
     "name": "stdout",
     "output_type": "stream",
     "text": [
      "[2024-05-15 11:16:18,772] {<timed exec>:12} INFO - Found 4456 tiles\n",
      "CPU times: user 3.4 s, sys: 91.8 ms, total: 3.49 s\n",
      "Wall time: 6.31 s\n"
     ]
    }
   ],
   "source": [
    "%%time\n",
    "# Find all the WOfS All Time Summaries geoboxes\n",
    "dc = Datacube(app=\"tiles\")\n",
    "gridspec = WaterbodiesGrid().gridspec\n",
    "\n",
    "dc_query = dict(product=\"wofs_ls_summary_alltime\")\n",
    "datasets = dc.find_datasets(**dc_query)\n",
    "\n",
    "tasks = create_tasks_from_datasets(datasets=datasets, tile_index_filter=None, bin_solar_day=False)\n",
    "tile_indices = [k for task in tasks for k,v in task.items()]\n",
    "tile_geoboxes = [gridspec.tile_geobox(tile_index=tile_index) for tile_index in tile_indices]\n",
    "tiles = list(zip(tile_indices, tile_geoboxes))\n",
    "_log.info(f\"Found {len(tiles)} tiles\")"
   ]
  },
  {
   "cell_type": "code",
   "execution_count": 7,
   "id": "3578ffea-caf5-4fc8-9b2c-19fe5c4a2c9b",
   "metadata": {},
   "outputs": [
    {
     "name": "stderr",
     "output_type": "stream",
     "text": [
      "Rasterizing tiles:   0%|          | 0/4456 [00:00<?, ?it/s]"
     ]
    },
    {
     "name": "stdout",
     "output_type": "stream",
     "text": [
      "[2024-05-15 11:16:20,796] {credentials.py:557} INFO - Found credentials in environment variables.\n"
     ]
    },
    {
     "name": "stderr",
     "output_type": "stream",
     "text": [
      "Rasterizing tiles: 100%|██████████| 4456/4456 [1:28:22<00:00,  1.19s/it]\n"
     ]
    }
   ],
   "source": [
    "fs = get_filesystem(output_directory)\n",
    "with tqdm(iterable=tiles, desc=\"Rasterizing tiles\", total=len(tiles)) as tiles:\n",
    "    for tile  in tiles:\n",
    "        tile_index, tile_geobox = tile\n",
    "        tile_index_str = get_tile_index_str_from_tuple(tile_index)\n",
    "        tile_raster_fp = os.path.join(output_directory, f\"goas_v01_{tile_index_str}.tif\")\n",
    "        # Convert the oceans/seas pixels from 1 to 0 and the land pixels from 0 to 1.\n",
    "        tile_raster = rio_slurp_xarray(fname=goas_raster_file, gbox=tile_geobox, resampling=\"bilinear\")\n",
    "        tile_raster = np.logical_not(tile_raster).astype(int)\n",
    "        # Write to file\n",
    "        cog_bytes = to_cog(geo_im=tile_raster)\n",
    "        with fs.open(tile_raster_fp, 'wb') as f:\n",
    "            f.write(cog_bytes)"
   ]
  }
 ],
 "metadata": {
  "kernelspec": {
   "display_name": "Python 3 (ipykernel)",
   "language": "python",
   "name": "python3"
  },
  "language_info": {
   "codemirror_mode": {
    "name": "ipython",
    "version": 3
   },
   "file_extension": ".py",
   "mimetype": "text/x-python",
   "name": "python",
   "nbconvert_exporter": "python",
   "pygments_lexer": "ipython3",
   "version": "3.10.12"
  }
 },
 "nbformat": 4,
 "nbformat_minor": 5
}
