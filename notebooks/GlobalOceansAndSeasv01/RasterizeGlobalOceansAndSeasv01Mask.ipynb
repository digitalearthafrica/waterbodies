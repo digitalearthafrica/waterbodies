{
 "cells": [
  {
   "cell_type": "markdown",
   "id": "b1bdc354-1c9b-4fbb-b052-6d13c913f7e9",
   "metadata": {},
   "source": [
    "# Rasterize the Global Oceans and Seas v01 (2021-12-14) dataset"
   ]
  },
  {
   "cell_type": "markdown",
   "id": "b3a74799-36f4-4566-8fb9-1a986a3dd655",
   "metadata": {},
   "source": [
    "Flanders Marine Institute (2021). Global Oceans and Seas, version 1. Available online at https://www.marineregions.org/. https://doi.org/10.14284/542.\n",
    "\n",
    "This dataset is licensed under a [Creative Commons Attribution 4.0 International License](https://creativecommons.org/licenses/by/4.0/).\n",
    "\n",
    "[Disclaimer](https://www.marineregions.org/disclaimer.php)\n",
    "\n",
    "> **Note: Run this notebook on the 8XL Analysis Sandbox or 16XL Analysis Sandbox**"
   ]
  },
  {
   "cell_type": "code",
   "execution_count": null,
   "id": "24819045-eac6-4650-8e28-9b9523442d31",
   "metadata": {},
   "outputs": [],
   "source": [
    "from dotenv import load_dotenv\n",
    "\n",
    "# Path to env file containing the waterbodies database credentials\n",
    "# Only necessary on the Sandbox.\n",
    "dotenv_path = \"/home/jovyan/.env\"\n",
    "load_dotenv(dotenv_path=dotenv_path, verbose=True, override=True)"
   ]
  },
  {
   "cell_type": "code",
   "execution_count": null,
   "id": "43638861-7e88-4c43-852a-79b20595b878",
   "metadata": {},
   "outputs": [],
   "source": [
    "import logging\n",
    "import os\n",
    "\n",
    "import boto3\n",
    "import geopandas as gpd\n",
    "from datacube.utils.cog import to_cog\n",
    "from odc.geo.geobox import GeoBox\n",
    "from odc.geo.geom import Geometry\n",
    "from odc.geo.xr import wrap_xr\n",
    "from rasterio.features import rasterize\n",
    "from waterbodies.grid import WaterbodiesGrid\n",
    "from waterbodies.logs import logging_setup\n",
    "from waterbodies.io import get_filesystem, load_vector_file"
   ]
  },
  {
   "cell_type": "code",
   "execution_count": null,
   "id": "e8be89d3-f0e0-43dc-b086-25fc46b5df7c",
   "metadata": {},
   "outputs": [],
   "source": [
    "verbose = 3\n",
    "bucket = \"deafrica-waterbodies-dev\"\n",
    "object_key = \"waterbodies/v0.0.2/land_sea_masks/goas_v01.tif\""
   ]
  },
  {
   "cell_type": "code",
   "execution_count": null,
   "id": "53881a60-28cc-4f08-8b42-b40764413ba2",
   "metadata": {},
   "outputs": [],
   "source": [
    "# Set up logging.\n",
    "logging_setup(verbose)\n",
    "_log = logging.getLogger(__name__)"
   ]
  },
  {
   "cell_type": "code",
   "execution_count": null,
   "id": "065263c1-47ef-4744-b1e0-cbc8347cbd2c",
   "metadata": {},
   "outputs": [],
   "source": [
    "gridspec = WaterbodiesGrid().gridspec"
   ]
  },
  {
   "cell_type": "code",
   "execution_count": null,
   "id": "c3b63c68-3ca8-4e87-ad1f-f78c562c37c0",
   "metadata": {},
   "outputs": [],
   "source": [
    "product_footprint = gpd.read_file(\"https://explorer.digitalearth.africa/api/footprint/wofs_ls_summary_alltime\").to_crs(gridspec.crs)\n",
    "product_footprint_geobox = GeoBox.from_geopolygon(geopolygon=Geometry(geom=product_footprint.geometry.iloc[0], crs=product_footprint.crs), resolution=gridspec.resolution, crs=gridspec.crs)"
   ]
  },
  {
   "cell_type": "code",
   "execution_count": null,
   "id": "478ac418-8e72-43ae-a399-2bd60eed4709",
   "metadata": {},
   "outputs": [],
   "source": [
    "%%time\n",
    "# Load the dataset.\n",
    "url = \"s3://deafrica-waterbodies-dev/waterbodies/v0.0.2/land_sea_masks/goas_v1/goas_v01.parquet\"\n",
    "goas_v01_gdf = load_vector_file(url).to_crs(gridspec.crs)"
   ]
  },
  {
   "cell_type": "code",
   "execution_count": null,
   "id": "b1a93c43-9460-45c5-a234-987749be7ecb",
   "metadata": {},
   "outputs": [],
   "source": [
    "%%time\n",
    "# Clip to the product footprint\n",
    "goas_v01_gdf_clipped = gpd.clip(goas_v01_gdf, product_footprint)"
   ]
  },
  {
   "cell_type": "code",
   "execution_count": null,
   "id": "d3bb3ab1-5083-4574-8292-afcaf1a87fa4",
   "metadata": {},
   "outputs": [],
   "source": [
    "# Save the clipped dataset to a parquet file.\n",
    "url = \"s3://deafrica-waterbodies-dev/waterbodies/v0.0.2/land_sea_masks/goas_v1/goas_v01_africa.parquet\"\n",
    "goas_v01_gdf_clipped.to_crs(\"EPSG:4326\").to_parquet(url)"
   ]
  },
  {
   "cell_type": "code",
   "execution_count": null,
   "id": "1333bf90-5c84-4dd8-afce-373ef1553c0c",
   "metadata": {},
   "outputs": [],
   "source": [
    "%%time\n",
    "# Rasterize the clipped dataset.\n",
    "goas_v01_gdf_clipped_np = rasterize(shapes=goas_v01_gdf_clipped.geometry, out_shape=product_footprint_geobox.shape, transform=product_footprint_geobox.transform)"
   ]
  },
  {
   "cell_type": "code",
   "execution_count": null,
   "id": "d1b197c3-3170-4e22-99aa-9f551217a09a",
   "metadata": {},
   "outputs": [],
   "source": [
    "%%time\n",
    "goas_v01_gdf_clipped_xr = wrap_xr(im=goas_v01_gdf_clipped_np, gbox=product_footprint_geobox)"
   ]
  },
  {
   "cell_type": "code",
   "execution_count": null,
   "id": "6983730b-df34-4c25-84e2-61548a6f1a5b",
   "metadata": {},
   "outputs": [],
   "source": [
    "%%time\n",
    "cog_bytes = to_cog(geo_im=goas_v01_gdf_clipped_xr)"
   ]
  },
  {
   "cell_type": "code",
   "execution_count": null,
   "id": "d5c15def-e813-4491-9d87-bc9e304dfff3",
   "metadata": {},
   "outputs": [],
   "source": [
    "%%time\n",
    "s3_client = boto3.client('s3')\n",
    "s3_client.put_object(Body=cog_bytes,\n",
    "                     Bucket=bucket,\n",
    "                     Key=object_key)"
   ]
  }
 ],
 "metadata": {
  "kernelspec": {
   "display_name": "Python 3 (ipykernel)",
   "language": "python",
   "name": "python3"
  },
  "language_info": {
   "codemirror_mode": {
    "name": "ipython",
    "version": 3
   },
   "file_extension": ".py",
   "mimetype": "text/x-python",
   "name": "python",
   "nbconvert_exporter": "python",
   "pygments_lexer": "ipython3",
   "version": "3.10.12"
  }
 },
 "nbformat": 4,
 "nbformat_minor": 5
}
