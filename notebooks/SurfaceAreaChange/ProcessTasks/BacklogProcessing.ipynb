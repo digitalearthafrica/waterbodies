{
 "cells": [
  {
   "cell_type": "code",
   "execution_count": null,
   "id": "66bd97c2-9229-4c2f-ad5c-061631306fbe",
   "metadata": {},
   "outputs": [],
   "source": [
    "from dotenv import load_dotenv\n",
    "\n",
    "# Path to env file containing the waterbodies database credentials\n",
    "# Only necessary on the Sandbox.\n",
    "dotenv_path = \"/home/jovyan/.env\"\n",
    "load_dotenv(dotenv_path=dotenv_path, verbose=True, override=True)"
   ]
  },
  {
   "cell_type": "code",
   "execution_count": null,
   "id": "ca599e58-0147-42bb-a82f-03f973d06431",
   "metadata": {},
   "outputs": [],
   "source": [
    "import logging\n",
    "\n",
    "import click\n",
    "from datacube import Datacube\n",
    "\n",
    "from waterbodies.db import get_waterbodies_engine\n",
    "from waterbodies.hopper import find_task_datasets_ids\n",
    "from waterbodies.io import check_directory_exists\n",
    "from waterbodies.logs import logging_setup\n",
    "from waterbodies.surface_area_change import (\n",
    "    add_waterbody_observations_to_db,\n",
    "    check_task_exists,\n",
    "    get_waterbody_observations,\n",
    ")\n",
    "from waterbodies.text import get_task_id_str_from_tuple"
   ]
  },
  {
   "cell_type": "code",
   "execution_count": null,
   "id": "7f83c687-6c59-45b5-bb3b-84b4a25e1700",
   "metadata": {},
   "outputs": [],
   "source": [
    "verbose = 3\n",
    "run_type = \"backlog-processing\"\n",
    "solar_day = \"2016-04-05\"\n",
    "tile_id_x = 229\n",
    "tile_id_y = 63\n",
    "task_datasets_ids = '[4e0999a2-183b-5c71-a7e5-da6696dcad49]'\n",
    "historical_extent_rasters_directory = \"s3://deafrica-waterbodies-dev/waterbodies/v0.0.2/historical_extent_rasters/\"\n",
    "overwrite = True"
   ]
  },
  {
   "cell_type": "code",
   "execution_count": null,
   "id": "972a2970-1a2b-45d3-849b-d5b4d3ba380a",
   "metadata": {},
   "outputs": [],
   "source": [
    "# Set up logging.\n",
    "logging_setup(verbose)\n",
    "_log = logging.getLogger(__name__)"
   ]
  },
  {
   "cell_type": "code",
   "execution_count": null,
   "id": "3c0f8b7b-f1fb-4b1a-a36a-172f04dbb4c6",
   "metadata": {},
   "outputs": [],
   "source": [
    "if not check_directory_exists(path=historical_extent_rasters_directory):\n",
    "    e = FileNotFoundError(f\"Directory {historical_extent_rasters_directory} does not exist!\")\n",
    "    _log.error(e)\n",
    "    raise e"
   ]
  },
  {
   "cell_type": "code",
   "execution_count": null,
   "id": "48f8d309-d836-4547-a673-57ce68c7c40f",
   "metadata": {},
   "outputs": [],
   "source": [
    "product = \"wofs_ls\""
   ]
  },
  {
   "cell_type": "code",
   "execution_count": null,
   "id": "ea6bef6b-dd82-4e39-b9e3-c84925b9c59d",
   "metadata": {},
   "outputs": [],
   "source": [
    "dc = Datacube(app=run_type)"
   ]
  },
  {
   "cell_type": "code",
   "execution_count": null,
   "id": "e11b73ca-8255-4e10-8133-acc5b93f1e59",
   "metadata": {},
   "outputs": [],
   "source": [
    "# Connect to the database\n",
    "engine = get_waterbodies_engine()\n",
    "engine"
   ]
  },
  {
   "cell_type": "code",
   "execution_count": null,
   "id": "538bea7c-f3ed-4cda-bec1-16a9cfcc3257",
   "metadata": {},
   "outputs": [],
   "source": [
    "task_id_tuple = (solar_day, tile_id_x, tile_id_y)\n",
    "task_id_str = get_task_id_str_from_tuple(task_id_tuple)"
   ]
  },
  {
   "cell_type": "code",
   "execution_count": null,
   "id": "92d8ccc4-2290-4e79-bbc9-104672d3303a",
   "metadata": {},
   "outputs": [],
   "source": [
    "# Get task datasets ids as list.\n",
    "task_datasets_ids = task_datasets_ids.lstrip(\"[\").rstrip(\"]\").split(\",\")\n",
    "task_datasets_ids"
   ]
  },
  {
   "cell_type": "code",
   "execution_count": null,
   "id": "72781cfa-4685-451c-83f3-85614211f20c",
   "metadata": {},
   "outputs": [],
   "source": [
    "if not overwrite:\n",
    "    # Check if there are waterbody observations with the task's task id\n",
    "    # already in the database.\n",
    "    exists = check_task_exists(task_id_str=task_id_str, engine=engine)"
   ]
  },
  {
   "cell_type": "code",
   "execution_count": null,
   "id": "66f4580c-8e8b-43f7-ac4c-f809b27b0c94",
   "metadata": {},
   "outputs": [],
   "source": [
    "if overwrite or not exists:\n",
    "    waterbody_observations = get_waterbody_observations(\n",
    "        solar_day=solar_day,\n",
    "        tile_id_x=tile_id_x,\n",
    "        tile_id_y=tile_id_y,\n",
    "        task_datasets_ids=task_datasets_ids,\n",
    "        historical_extent_rasters_directory=historical_extent_rasters_directory,\n",
    "        dc=dc,\n",
    "    )\n",
    "    if waterbody_observations is None:\n",
    "        _log.info(f\"Task {task_id_str} has no waterbody observations.\")\n",
    "    else:\n",
    "        add_waterbody_observations_to_db(\n",
    "            waterbody_observations=waterbody_observations, engine=engine, update_rows=True\n",
    "        )\n",
    "        _log.info(f\"Task {task_id_str} complete\")\n",
    "else:\n",
    "    _log.info(f\"Task {task_id_str} already exists, skipping\")"
   ]
  },
  {
   "cell_type": "code",
   "execution_count": null,
   "id": "9f913b96-f513-499e-ac80-c1a3c61112d7",
   "metadata": {},
   "outputs": [],
   "source": [
    "import pandas as pd\n",
    "\n",
    "# Write your SQL query to select the first 5 rows\n",
    "sql_query = \"SELECT * FROM waterbodies_observations_test LIMIT 5;\"\n",
    "\n",
    "# Execute the query and fetch the results into Pandas DataFrame\n",
    "df = pd.read_sql_query(sql_query, con=engine)\n",
    "\n",
    "df"
   ]
  }
 ],
 "metadata": {
  "kernelspec": {
   "display_name": "Python 3 (ipykernel)",
   "language": "python",
   "name": "python3"
  },
  "language_info": {
   "codemirror_mode": {
    "name": "ipython",
    "version": 3
   },
   "file_extension": ".py",
   "mimetype": "text/x-python",
   "name": "python",
   "nbconvert_exporter": "python",
   "pygments_lexer": "ipython3",
   "version": "3.10.12"
  }
 },
 "nbformat": 4,
 "nbformat_minor": 5
}
