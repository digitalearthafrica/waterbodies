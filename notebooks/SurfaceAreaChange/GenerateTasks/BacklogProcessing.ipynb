{
 "cells": [
  {
   "cell_type": "code",
   "execution_count": 1,
   "id": "f6ba83a6-f2bd-47e6-9f02-8aa361b3e05f",
   "metadata": {},
   "outputs": [
    {
     "data": {
      "text/plain": [
       "True"
      ]
     },
     "execution_count": 1,
     "metadata": {},
     "output_type": "execute_result"
    }
   ],
   "source": [
    "from dotenv import load_dotenv\n",
    "\n",
    "# Path to env file containing the waterbodies database credentials\n",
    "# Only necessary on the Sandbox.\n",
    "dotenv_path = \"/home/jovyan/.env\"\n",
    "load_dotenv(dotenv_path=dotenv_path, verbose=True, override=True)"
   ]
  },
  {
   "cell_type": "code",
   "execution_count": 2,
   "id": "30f899b0-02a9-4454-9e9e-9c40fe5423fa",
   "metadata": {},
   "outputs": [],
   "source": [
    "import json\n",
    "import logging\n",
    "import os\n",
    "\n",
    "import click\n",
    "from datacube import Datacube\n",
    "import numpy as np\n",
    "from odc.stats.model import DateTimeRange\n",
    "\n",
    "from waterbodies.hopper import create_tasks_from_scenes\n",
    "from waterbodies.io import check_directory_exists, find_geotiff_files, get_filesystem\n",
    "from waterbodies.logs import logging_setup\n",
    "from waterbodies.text import format_task, get_tile_id_tuple_from_filename"
   ]
  },
  {
   "cell_type": "code",
   "execution_count": 3,
   "id": "58450a47-5c9c-474c-acee-15743b46b96c",
   "metadata": {},
   "outputs": [],
   "source": [
    "verbose = 3\n",
    "run_type = \"backlog-processing\"\n",
    "temporal_range = \"2019--P1Y\"\n",
    "historical_extent_rasters_directory = (\n",
    "    \"s3://deafrica-waterbodies-dev/waterbodies/v0.0.2/historical_extent_rasters/\"\n",
    ")\n",
    "max_parallel_steps = 7000"
   ]
  },
  {
   "cell_type": "code",
   "execution_count": 4,
   "id": "9f520655-8531-4dc1-8e0e-fdde4cad9e3a",
   "metadata": {},
   "outputs": [],
   "source": [
    "# Set up logging.\n",
    "logging_setup(verbose)\n",
    "_log = logging.getLogger(__name__)"
   ]
  },
  {
   "cell_type": "code",
   "execution_count": 5,
   "id": "9a8b2648-aba7-4d60-9d0a-c4b044b4e133",
   "metadata": {},
   "outputs": [
    {
     "name": "stdout",
     "output_type": "stream",
     "text": [
      "[2024-04-18 16:33:27,707] {credentials.py:557} INFO - Found credentials in environment variables.\n"
     ]
    }
   ],
   "source": [
    "if not check_directory_exists(path=historical_extent_rasters_directory):\n",
    "    e = FileNotFoundError(f\"Directory {historical_extent_rasters_directory} does not exist!\")\n",
    "    _log.error(e)\n",
    "    raise e\n",
    "else:\n",
    "    historical_extent_rasters = find_geotiff_files(\n",
    "        directory_path=historical_extent_rasters_directory\n",
    "    )"
   ]
  },
  {
   "cell_type": "code",
   "execution_count": 6,
   "id": "bd4e3a35-885b-487c-a154-ef106659d25e",
   "metadata": {},
   "outputs": [],
   "source": [
    "# Get the tile_ids for tiles that actually contain waterbodies.\n",
    "tile_ids_of_interest = [\n",
    "    get_tile_id_tuple_from_filename(file_path=raster_file)\n",
    "    for raster_file in historical_extent_rasters\n",
    "]"
   ]
  },
  {
   "cell_type": "code",
   "execution_count": 7,
   "id": "8633d47a-bf7f-446c-8c03-32b8b048a5e8",
   "metadata": {},
   "outputs": [],
   "source": [
    "product = \"wofs_ls\""
   ]
  },
  {
   "cell_type": "code",
   "execution_count": 8,
   "id": "ee21ed18-a651-4f1f-b798-9eba445e1fc1",
   "metadata": {},
   "outputs": [],
   "source": [
    "# Parse the temporal range\n",
    "temporal_range_ = DateTimeRange(temporal_range)"
   ]
  },
  {
   "cell_type": "code",
   "execution_count": 9,
   "id": "289e47fe-c418-468c-a22a-e6b79bb82eaa",
   "metadata": {},
   "outputs": [],
   "source": [
    "# Connect to the datacube\n",
    "dc = Datacube(app=run_type)"
   ]
  },
  {
   "cell_type": "code",
   "execution_count": 10,
   "id": "e0a672ce-6934-4c0d-b8ad-9e644946e051",
   "metadata": {},
   "outputs": [
    {
     "data": {
      "text/plain": [
       "{'product': 'wofs_ls',\n",
       " 'time': (datetime.datetime(2019, 1, 1, 0, 0),\n",
       "  datetime.datetime(2019, 12, 31, 23, 59, 59, 999999))}"
      ]
     },
     "execution_count": 10,
     "metadata": {},
     "output_type": "execute_result"
    }
   ],
   "source": [
    "# Define the datacube query\n",
    "dc_query = dict(product=product, time=(temporal_range_.start, temporal_range_.end))\n",
    "dc_query"
   ]
  },
  {
   "cell_type": "code",
   "execution_count": 11,
   "id": "46faf08f-83d8-404f-a6b9-9402bf045d56",
   "metadata": {},
   "outputs": [
    {
     "name": "stdout",
     "output_type": "stream",
     "text": [
      "CPU times: user 6.21 s, sys: 781 ms, total: 6.99 s\n",
      "Wall time: 1min 30s\n"
     ]
    }
   ],
   "source": [
    "%%time\n",
    "# Query the datacube for all wofs_ls datasets whose acquisition times fall within\n",
    "# the temporal range specified.\n",
    "scenes = dc.find_datasets(**dc_query)"
   ]
  },
  {
   "cell_type": "code",
   "execution_count": 12,
   "id": "7e333906-9abf-4b03-8239-5a00f493e2cb",
   "metadata": {},
   "outputs": [
    {
     "name": "stderr",
     "output_type": "stream",
     "text": [
      "Processing   61,203 scenes: 100%|██████████| 61203/61203 [00:47<00:00, 1284.56it/s]"
     ]
    },
    {
     "name": "stdout",
     "output_type": "stream",
     "text": [
      "[2024-04-18 16:35:47,077] {hopper.py:167} INFO - Filter the 4450 cells to keep only the cells containing the 2783 tile ids of interest.\n",
      "[2024-04-18 16:35:47,219] {hopper.py:174} INFO - Total number of cells after filtering: 2783\n"
     ]
    },
    {
     "name": "stderr",
     "output_type": "stream",
     "text": [
      "\n"
     ]
    },
    {
     "name": "stdout",
     "output_type": "stream",
     "text": [
      "[2024-04-18 16:35:47,220] {hopper.py:178} INFO - For each cell, group the datasets by solar day\n",
      "[2024-04-18 16:35:49,803] {hopper.py:184} INFO - Total number of tasks: 236711\n",
      "CPU times: user 50.4 s, sys: 209 ms, total: 50.6 s\n",
      "Wall time: 50.4 s\n"
     ]
    }
   ],
   "source": [
    "%%time\n",
    "tasks = create_tasks_from_scenes(scenes=scenes, tile_ids_of_interest=tile_ids_of_interest)"
   ]
  },
  {
   "cell_type": "code",
   "execution_count": 13,
   "id": "ec1de3c2-1789-4ad6-bb24-6679d353c1dd",
   "metadata": {},
   "outputs": [],
   "source": [
    "# Put the tasks in the correct format.\n",
    "tasks = [format_task(task) for task in tasks]"
   ]
  },
  {
   "cell_type": "code",
   "execution_count": 14,
   "id": "1e80b188-ff84-47ad-8a4a-0b3a1f5152db",
   "metadata": {},
   "outputs": [
    {
     "name": "stdout",
     "output_type": "stream",
     "text": [
      "CPU times: user 54.2 ms, sys: 3.85 ms, total: 58 ms\n",
      "Wall time: 56.5 ms\n"
     ]
    }
   ],
   "source": [
    "%%time\n",
    "# Split the list into chunks.\n",
    "task_chunks = np.array_split(np.array(tasks), max_parallel_steps)\n",
    "task_chunks = [chunk.tolist() for chunk in task_chunks]"
   ]
  },
  {
   "cell_type": "code",
   "execution_count": 15,
   "id": "199d12f1-73e2-45eb-b547-f0301b2db72b",
   "metadata": {},
   "outputs": [],
   "source": [
    "# Convert list to json array.\n",
    "task_chunks_json_array = json.dumps(task_chunks)"
   ]
  },
  {
   "cell_type": "code",
   "execution_count": 17,
   "id": "c0540cde-68de-47b6-a3a3-f8b4c39ae4e3",
   "metadata": {},
   "outputs": [],
   "source": [
    "tasks_directory = \"/tmp/\"\n",
    "fs = get_filesystem(path=tasks_directory)"
   ]
  },
  {
   "cell_type": "code",
   "execution_count": 18,
   "id": "6d8f3654-2dbc-4b8c-88da-b59bd37ae1cf",
   "metadata": {},
   "outputs": [],
   "source": [
    "if not check_directory_exists(path=tasks_directory):\n",
    "    fs.mkdirs(path=tasks_directory, exist_ok=True)\n",
    "    _log.info(f\"Created directory {tasks_directory}\")"
   ]
  },
  {
   "cell_type": "code",
   "execution_count": 19,
   "id": "52c7e256-dc47-4f31-b1ac-549363b9df4c",
   "metadata": {},
   "outputs": [],
   "source": [
    "tasks_output_file = os.path.join(tasks_directory, \"tasks\")\n",
    "tasks_count_file = os.path.join(tasks_directory, \"tasks_count\")"
   ]
  },
  {
   "cell_type": "code",
   "execution_count": 20,
   "id": "815cfc98-973d-4239-8386-f4e4df34b9df",
   "metadata": {},
   "outputs": [
    {
     "name": "stdout",
     "output_type": "stream",
     "text": [
      "[2024-04-18 16:36:04,509] {1198171069.py:3} INFO - Tasks written to /tmp/tasks\n",
      "[2024-04-18 16:36:04,510] {1198171069.py:7} INFO - Tasks count written to /tmp/tasks_count\n"
     ]
    }
   ],
   "source": [
    "with fs.open(tasks_output_file, \"w\") as file:\n",
    "    file.write(task_chunks_json_array)\n",
    "_log.info(f\"Tasks written to {tasks_output_file}\")\n",
    "\n",
    "with fs.open(tasks_count_file, \"w\") as file:\n",
    "    file.write(str(len(task_chunks)))\n",
    "_log.info(f\"Tasks count written to {tasks_count_file}\")"
   ]
  }
 ],
 "metadata": {
  "kernelspec": {
   "display_name": "Python 3 (ipykernel)",
   "language": "python",
   "name": "python3"
  },
  "language_info": {
   "codemirror_mode": {
    "name": "ipython",
    "version": 3
   },
   "file_extension": ".py",
   "mimetype": "text/x-python",
   "name": "python",
   "nbconvert_exporter": "python",
   "pygments_lexer": "ipython3",
   "version": "3.10.12"
  }
 },
 "nbformat": 4,
 "nbformat_minor": 5
}
