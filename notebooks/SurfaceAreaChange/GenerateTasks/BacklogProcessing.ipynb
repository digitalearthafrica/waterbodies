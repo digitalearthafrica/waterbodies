{
 "cells": [
  {
   "cell_type": "code",
   "execution_count": 1,
   "id": "f6ba83a6-f2bd-47e6-9f02-8aa361b3e05f",
   "metadata": {},
   "outputs": [
    {
     "data": {
      "text/plain": [
       "True"
      ]
     },
     "execution_count": 1,
     "metadata": {},
     "output_type": "execute_result"
    }
   ],
   "source": [
    "from dotenv import load_dotenv\n",
    "# Path to env file containing the waterbodies database credentials\n",
    "# Only necessary on the Sandbox.\n",
    "dotenv_path = \"/home/jovyan/.env\"\n",
    "load_dotenv(dotenv_path=dotenv_path, verbose=True, override=True)"
   ]
  },
  {
   "cell_type": "code",
   "execution_count": 2,
   "id": "30f899b0-02a9-4454-9e9e-9c40fe5423fa",
   "metadata": {},
   "outputs": [],
   "source": [
    "import json\n",
    "import logging\n",
    "import sys\n",
    "\n",
    "import click\n",
    "from datacube import Datacube\n",
    "from odc.stats.model import DateTimeRange\n",
    "\n",
    "from waterbodies.hopper import create_tasks_from_scenes\n",
    "from waterbodies.io import check_directory_exists, find_geotiff_files\n",
    "from waterbodies.logs import logging_setup\n",
    "from waterbodies.text import format_task, get_tile_id_tuple_from_filename"
   ]
  },
  {
   "cell_type": "code",
   "execution_count": 3,
   "id": "58450a47-5c9c-474c-acee-15743b46b96c",
   "metadata": {},
   "outputs": [],
   "source": [
    "verbose =1\n",
    "run_type = \"backlog-processing\"\n",
    "temporal_range = \"2016-04-05--P1D\"\n",
    "# historical_extent_rasters_directory = \"s3://deafrica-waterbodies-dev/waterbodies/v0.0.2/historical_extent_rasters/\"\n",
    "historical_extent_rasters_directory = \"../../../tests/data/\""
   ]
  },
  {
   "cell_type": "code",
   "execution_count": 4,
   "id": "9f520655-8531-4dc1-8e0e-fdde4cad9e3a",
   "metadata": {},
   "outputs": [],
   "source": [
    "# Set up logging.\n",
    "logging_setup(verbose)\n",
    "_log = logging.getLogger(__name__)"
   ]
  },
  {
   "cell_type": "code",
   "execution_count": 5,
   "id": "9a8b2648-aba7-4d60-9d0a-c4b044b4e133",
   "metadata": {},
   "outputs": [],
   "source": [
    "if not check_directory_exists(path=historical_extent_rasters_directory):\n",
    "    e = FileNotFoundError(f\"Directory {historical_extent_rasters_directory} does not exist!\")\n",
    "    _log.error(e)\n",
    "    raise e\n",
    "else:\n",
    "    historical_extent_rasters = find_geotiff_files(directory_path=historical_extent_rasters_directory)"
   ]
  },
  {
   "cell_type": "code",
   "execution_count": 6,
   "id": "bd4e3a35-885b-487c-a154-ef106659d25e",
   "metadata": {},
   "outputs": [],
   "source": [
    "# Get the tile_ids for tiles that actually contain waterbodies.\n",
    "tile_ids_of_interest = [\n",
    "        get_tile_id_tuple_from_filename(file_path=raster_file)\n",
    "        for raster_file in historical_extent_rasters\n",
    "    ]"
   ]
  },
  {
   "cell_type": "code",
   "execution_count": 7,
   "id": "8633d47a-bf7f-446c-8c03-32b8b048a5e8",
   "metadata": {},
   "outputs": [],
   "source": [
    "product = \"wofs_ls\""
   ]
  },
  {
   "cell_type": "code",
   "execution_count": 8,
   "id": "ee21ed18-a651-4f1f-b798-9eba445e1fc1",
   "metadata": {},
   "outputs": [],
   "source": [
    "# Parse the temporal range\n",
    "temporal_range_ = DateTimeRange(temporal_range)"
   ]
  },
  {
   "cell_type": "code",
   "execution_count": 9,
   "id": "289e47fe-c418-468c-a22a-e6b79bb82eaa",
   "metadata": {},
   "outputs": [],
   "source": [
    "# Connect to the datacube\n",
    "dc = Datacube(app=run_type)"
   ]
  },
  {
   "cell_type": "code",
   "execution_count": 10,
   "id": "e0a672ce-6934-4c0d-b8ad-9e644946e051",
   "metadata": {},
   "outputs": [
    {
     "data": {
      "text/plain": [
       "{'product': 'wofs_ls',\n",
       " 'time': (datetime.datetime(2016, 4, 5, 0, 0),\n",
       "  datetime.datetime(2016, 4, 5, 23, 59, 59, 999999))}"
      ]
     },
     "execution_count": 10,
     "metadata": {},
     "output_type": "execute_result"
    }
   ],
   "source": [
    "# Define the datacube query \n",
    "dc_query = dict(product=product, time=(temporal_range_.start, temporal_range_.end))\n",
    "dc_query"
   ]
  },
  {
   "cell_type": "code",
   "execution_count": 11,
   "id": "46faf08f-83d8-404f-a6b9-9402bf045d56",
   "metadata": {},
   "outputs": [
    {
     "name": "stdout",
     "output_type": "stream",
     "text": [
      "CPU times: user 86.7 ms, sys: 13.4 ms, total: 100 ms\n",
      "Wall time: 39.6 s\n"
     ]
    }
   ],
   "source": [
    "%%time\n",
    "# Query the datacube for all wofs_ls datasets whose acquisition times fall within\n",
    "# the temporal range specified.\n",
    "scenes = dc.find_datasets(**dc_query)"
   ]
  },
  {
   "cell_type": "code",
   "execution_count": 12,
   "id": "7e333906-9abf-4b03-8239-5a00f493e2cb",
   "metadata": {},
   "outputs": [
    {
     "name": "stderr",
     "output_type": "stream",
     "text": [
      "Processing      174 scenes: 100%|██████████| 174/174 [00:00<00:00, 364.49it/s]"
     ]
    },
    {
     "name": "stdout",
     "output_type": "stream",
     "text": [
      "[2024-04-08 13:25:01,814] {hopper.py:167} INFO - Filter the 985 cells to keep only the cells containing the 1 tile ids of interest.\n",
      "[2024-04-08 13:25:01,816] {hopper.py:174} INFO - Total number of cells after filtering: 1\n",
      "[2024-04-08 13:25:01,817] {hopper.py:178} INFO - For each cell, group the datasets by solar day\n",
      "[2024-04-08 13:25:01,817] {hopper.py:184} INFO - Total number of tasks: 1\n",
      "CPU times: user 481 ms, sys: 9.75 ms, total: 490 ms\n",
      "Wall time: 487 ms\n"
     ]
    },
    {
     "name": "stderr",
     "output_type": "stream",
     "text": [
      "\n"
     ]
    }
   ],
   "source": [
    "%%time\n",
    "tasks = create_tasks_from_scenes(scenes=scenes, tile_ids_of_interest=tile_ids_of_interest)"
   ]
  },
  {
   "cell_type": "code",
   "execution_count": 13,
   "id": "ec1de3c2-1789-4ad6-bb24-6679d353c1dd",
   "metadata": {},
   "outputs": [],
   "source": [
    "tasks = [format_task(task) for task in tasks]"
   ]
  },
  {
   "cell_type": "code",
   "execution_count": 14,
   "id": "e7b2a0d7-fbbf-4cc7-ae01-49a26534624e",
   "metadata": {},
   "outputs": [
    {
     "name": "stdout",
     "output_type": "stream",
     "text": [
      "[{\"solar_day\": \"2016-04-05\", \"tile_id_x\": 199, \"tile_id_y\": 35, \"task_datasets_ids\": [\"9b916e21-2229-5121-8333-0a8b3736d440\", \"180340f9-b365-506b-b561-153af5b1490d\"]}]"
     ]
    }
   ],
   "source": [
    "json.dump(tasks, sys.stdout)"
   ]
  }
 ],
 "metadata": {
  "kernelspec": {
   "display_name": "Python 3 (ipykernel)",
   "language": "python",
   "name": "python3"
  },
  "language_info": {
   "codemirror_mode": {
    "name": "ipython",
    "version": 3
   },
   "file_extension": ".py",
   "mimetype": "text/x-python",
   "name": "python",
   "nbconvert_exporter": "python",
   "pygments_lexer": "ipython3",
   "version": "3.10.12"
  }
 },
 "nbformat": 4,
 "nbformat_minor": 5
}
