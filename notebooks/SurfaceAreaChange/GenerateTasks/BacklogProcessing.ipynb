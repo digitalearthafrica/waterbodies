{
 "cells": [
  {
   "cell_type": "code",
   "execution_count": 1,
   "id": "f6ba83a6-f2bd-47e6-9f02-8aa361b3e05f",
   "metadata": {},
   "outputs": [
    {
     "data": {
      "text/plain": [
       "True"
      ]
     },
     "execution_count": 1,
     "metadata": {},
     "output_type": "execute_result"
    }
   ],
   "source": [
    "from dotenv import load_dotenv\n",
    "\n",
    "# Path to env file containing the waterbodies database credentials\n",
    "# Only necessary on the Sandbox.\n",
    "dotenv_path = \"/home/jovyan/.env\"\n",
    "load_dotenv(dotenv_path=dotenv_path, verbose=True, override=True)"
   ]
  },
  {
   "cell_type": "code",
   "execution_count": 3,
   "id": "30f899b0-02a9-4454-9e9e-9c40fe5423fa",
   "metadata": {},
   "outputs": [],
   "source": [
    "import json\n",
    "import logging\n",
    "import os\n",
    "\n",
    "import click\n",
    "from datacube import Datacube\n",
    "import numpy as np\n",
    "from odc.stats.model import DateTimeRange\n",
    "\n",
    "from waterbodies.hopper import create_tasks_from_datasets\n",
    "from waterbodies.io import check_directory_exists, find_geotiff_files, get_filesystem\n",
    "from waterbodies.logs import logging_setup\n",
    "from waterbodies.text import format_task, get_tile_id_tuple_from_filename"
   ]
  },
  {
   "cell_type": "code",
   "execution_count": 4,
   "id": "58450a47-5c9c-474c-acee-15743b46b96c",
   "metadata": {},
   "outputs": [],
   "source": [
    "verbose = 3\n",
    "run_type = \"backlog-processing\"\n",
    "temporal_range = \"2019--P1Y\"\n",
    "historical_extent_rasters_directory = (\n",
    "    \"s3://deafrica-waterbodies-dev/waterbodies/v0.0.2/historical_extent_rasters/\"\n",
    ")\n",
    "max_parallel_steps = 7000"
   ]
  },
  {
   "cell_type": "code",
   "execution_count": 5,
   "id": "9f520655-8531-4dc1-8e0e-fdde4cad9e3a",
   "metadata": {},
   "outputs": [],
   "source": [
    "# Set up logging.\n",
    "logging_setup(verbose)\n",
    "_log = logging.getLogger(__name__)"
   ]
  },
  {
   "cell_type": "code",
   "execution_count": 6,
   "id": "9a8b2648-aba7-4d60-9d0a-c4b044b4e133",
   "metadata": {},
   "outputs": [
    {
     "name": "stdout",
     "output_type": "stream",
     "text": [
      "[2024-04-19 16:38:59,147] {credentials.py:557} INFO - Found credentials in environment variables.\n"
     ]
    }
   ],
   "source": [
    "if not check_directory_exists(path=historical_extent_rasters_directory):\n",
    "    e = FileNotFoundError(f\"Directory {historical_extent_rasters_directory} does not exist!\")\n",
    "    _log.error(e)\n",
    "    raise e\n",
    "else:\n",
    "    historical_extent_rasters = find_geotiff_files(\n",
    "        directory_path=historical_extent_rasters_directory\n",
    "    )"
   ]
  },
  {
   "cell_type": "code",
   "execution_count": 7,
   "id": "bd4e3a35-885b-487c-a154-ef106659d25e",
   "metadata": {},
   "outputs": [],
   "source": [
    "tiles_containing_waterbodies = [\n",
    "    get_tile_id_tuple_from_filename(file_path=raster_file)\n",
    "    for raster_file in historical_extent_rasters\n",
    "]"
   ]
  },
  {
   "cell_type": "code",
   "execution_count": 8,
   "id": "8633d47a-bf7f-446c-8c03-32b8b048a5e8",
   "metadata": {},
   "outputs": [],
   "source": [
    "product = \"wofs_ls\""
   ]
  },
  {
   "cell_type": "code",
   "execution_count": 9,
   "id": "ee21ed18-a651-4f1f-b798-9eba445e1fc1",
   "metadata": {},
   "outputs": [],
   "source": [
    "# Parse the temporal range\n",
    "temporal_range_ = DateTimeRange(temporal_range)"
   ]
  },
  {
   "cell_type": "code",
   "execution_count": 10,
   "id": "289e47fe-c418-468c-a22a-e6b79bb82eaa",
   "metadata": {},
   "outputs": [],
   "source": [
    "# Connect to the datacube\n",
    "dc = Datacube(app=run_type)"
   ]
  },
  {
   "cell_type": "code",
   "execution_count": 11,
   "id": "e0a672ce-6934-4c0d-b8ad-9e644946e051",
   "metadata": {},
   "outputs": [],
   "source": [
    "# Define the datacube query\n",
    "dc_query = dict(product=product, time=(temporal_range_.start, temporal_range_.end))"
   ]
  },
  {
   "cell_type": "code",
   "execution_count": 12,
   "id": "46faf08f-83d8-404f-a6b9-9402bf045d56",
   "metadata": {},
   "outputs": [
    {
     "name": "stdout",
     "output_type": "stream",
     "text": [
      "CPU times: user 5.71 s, sys: 687 ms, total: 6.4 s\n",
      "Wall time: 1min 26s\n"
     ]
    }
   ],
   "source": [
    "%%time\n",
    "# Query the datacube for all wofs_ls datasets whose acquisition times fall within\n",
    "# the temporal range specified.\n",
    "datasets = dc.find_datasets(**dc_query)"
   ]
  },
  {
   "cell_type": "code",
   "execution_count": 13,
   "id": "460d80dd-36ee-450c-8c38-60e2cbfb6c78",
   "metadata": {},
   "outputs": [
    {
     "name": "stdout",
     "output_type": "stream",
     "text": [
      "[2024-04-19 16:40:44,149] {3047205837.py:1} INFO - Found 61203 datasets matching the query {'product': 'wofs_ls', 'time': (datetime.datetime(2019, 1, 1, 0, 0), datetime.datetime(2019, 12, 31, 23, 59, 59, 999999))}\n"
     ]
    }
   ],
   "source": [
    "_log.info(f\"Found {len(datasets)} datasets matching the query {dc_query}\")"
   ]
  },
  {
   "cell_type": "code",
   "execution_count": 14,
   "id": "7e333906-9abf-4b03-8239-5a00f493e2cb",
   "metadata": {},
   "outputs": [
    {
     "name": "stderr",
     "output_type": "stream",
     "text": [
      "Processing 61203 datasets: 100%|██████████| 61203/61203 [00:46<00:00, 1316.30it/s]\n"
     ]
    },
    {
     "name": "stdout",
     "output_type": "stream",
     "text": [
      "CPU times: user 49.1 s, sys: 279 ms, total: 49.4 s\n",
      "Wall time: 49.2 s\n"
     ]
    }
   ],
   "source": [
    "%%time\n",
    "tasks = create_tasks_from_datasets(\n",
    "    datasets=datasets, tile_ids_of_interest=tiles_containing_waterbodies\n",
    ")"
   ]
  },
  {
   "cell_type": "code",
   "execution_count": 15,
   "id": "ec1de3c2-1789-4ad6-bb24-6679d353c1dd",
   "metadata": {},
   "outputs": [],
   "source": [
    "# Put the tasks in the correct format\n",
    "tasks = [format_task(task) for task in tasks]"
   ]
  },
  {
   "cell_type": "code",
   "execution_count": 16,
   "id": "aea25b37-c84a-4159-9849-a963749b62bd",
   "metadata": {},
   "outputs": [
    {
     "name": "stdout",
     "output_type": "stream",
     "text": [
      "[2024-04-19 16:41:34,583] {2708203668.py:3} INFO - Total number of tasks: 236711\n"
     ]
    }
   ],
   "source": [
    "# Sort the tasks by solar day\n",
    "sorted_tasks = sorted(tasks, key=lambda x: x[\"solar_day\"])\n",
    "_log.info(f\"Total number of tasks: {len(sorted_tasks)}\")"
   ]
  },
  {
   "cell_type": "code",
   "execution_count": 17,
   "id": "1e80b188-ff84-47ad-8a4a-0b3a1f5152db",
   "metadata": {},
   "outputs": [],
   "source": [
    "# Split the list into chunks.\n",
    "task_chunks = np.array_split(np.array(sorted_tasks), max_parallel_steps)\n",
    "task_chunks = [chunk.tolist() for chunk in task_chunks]\n",
    "# Get the number of chunks.\n",
    "task_chunks_count = str(len(task_chunks))"
   ]
  },
  {
   "cell_type": "code",
   "execution_count": 18,
   "id": "199d12f1-73e2-45eb-b547-f0301b2db72b",
   "metadata": {},
   "outputs": [],
   "source": [
    "# Convert list to json array.\n",
    "task_chunks_json_array = json.dumps(task_chunks)"
   ]
  },
  {
   "cell_type": "code",
   "execution_count": 19,
   "id": "c0540cde-68de-47b6-a3a3-f8b4c39ae4e3",
   "metadata": {},
   "outputs": [],
   "source": [
    "tasks_directory = \"/tmp/\"\n",
    "tasks_output_file = os.path.join(tasks_directory, \"tasks\")\n",
    "tasks_count_file = os.path.join(tasks_directory, \"tasks_count\")"
   ]
  },
  {
   "cell_type": "code",
   "execution_count": 20,
   "id": "c192fb67-67b7-4fe7-b5ea-d834c9f01cd1",
   "metadata": {},
   "outputs": [],
   "source": [
    "fs = get_filesystem(path=tasks_directory)"
   ]
  },
  {
   "cell_type": "code",
   "execution_count": 21,
   "id": "6d8f3654-2dbc-4b8c-88da-b59bd37ae1cf",
   "metadata": {},
   "outputs": [],
   "source": [
    "if not check_directory_exists(path=tasks_directory):\n",
    "    fs.mkdirs(path=tasks_directory, exist_ok=True)\n",
    "    _log.info(f\"Created directory {tasks_directory}\")"
   ]
  },
  {
   "cell_type": "code",
   "execution_count": 22,
   "id": "815cfc98-973d-4239-8386-f4e4df34b9df",
   "metadata": {},
   "outputs": [
    {
     "name": "stdout",
     "output_type": "stream",
     "text": [
      "[2024-04-19 16:41:35,382] {1726518394.py:3} INFO - Tasks written to /tmp/tasks\n",
      "[2024-04-19 16:41:35,383] {1726518394.py:7} INFO - Tasks count written to /tmp/tasks_count\n"
     ]
    }
   ],
   "source": [
    "with fs.open(tasks_output_file, \"w\") as file:\n",
    "    file.write(task_chunks_json_array)\n",
    "_log.info(f\"Tasks written to {tasks_output_file}\")\n",
    "\n",
    "with fs.open(tasks_count_file, \"w\") as file:\n",
    "    file.write(task_chunks_count)\n",
    "_log.info(f\"Tasks count written to {tasks_count_file}\")"
   ]
  }
 ],
 "metadata": {
  "kernelspec": {
   "display_name": "Python 3 (ipykernel)",
   "language": "python",
   "name": "python3"
  },
  "language_info": {
   "codemirror_mode": {
    "name": "ipython",
    "version": 3
   },
   "file_extension": ".py",
   "mimetype": "text/x-python",
   "name": "python",
   "nbconvert_exporter": "python",
   "pygments_lexer": "ipython3",
   "version": "3.10.12"
  }
 },
 "nbformat": 4,
 "nbformat_minor": 5
}
