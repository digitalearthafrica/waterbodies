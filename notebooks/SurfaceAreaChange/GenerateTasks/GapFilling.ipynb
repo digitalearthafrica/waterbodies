{
 "cells": [
  {
   "cell_type": "code",
   "execution_count": 1,
   "id": "f6ba83a6-f2bd-47e6-9f02-8aa361b3e05f",
   "metadata": {},
   "outputs": [
    {
     "data": {
      "text/plain": [
       "True"
      ]
     },
     "execution_count": 1,
     "metadata": {},
     "output_type": "execute_result"
    }
   ],
   "source": [
    "from dotenv import load_dotenv\n",
    "# Path to env file containing the waterbodies database credentials\n",
    "# Only necessary on the Sandbox.\n",
    "dotenv_path = \"/home/jovyan/.env\"\n",
    "load_dotenv(dotenv_path=dotenv_path, verbose=True, override=True)"
   ]
  },
  {
   "cell_type": "code",
   "execution_count": 2,
   "id": "30f899b0-02a9-4454-9e9e-9c40fe5423fa",
   "metadata": {},
   "outputs": [],
   "source": [
    "import json\n",
    "import logging\n",
    "import sys\n",
    "\n",
    "import click\n",
    "from datacube import Datacube\n",
    "from odc.stats.model import DateTimeRange\n",
    "\n",
    "from waterbodies.hopper import create_tasks_from_scenes\n",
    "from waterbodies.io import check_directory_exists, find_geotiff_files\n",
    "from waterbodies.logs import logging_setup\n",
    "from waterbodies.text import format_task, get_tile_id_tuple_from_filename"
   ]
  },
  {
   "cell_type": "code",
   "execution_count": 3,
   "id": "58450a47-5c9c-474c-acee-15743b46b96c",
   "metadata": {},
   "outputs": [],
   "source": [
    "verbose =1\n",
    "run_type = \"gap-filling\"\n",
    "temporal_range = \"2024-02--P1M\"\n",
    "historical_extent_rasters_directory = \"s3://deafrica-waterbodies-dev/waterbodies/v0.0.2/historical_extent_rasters/\""
   ]
  },
  {
   "cell_type": "code",
   "execution_count": 4,
   "id": "9f520655-8531-4dc1-8e0e-fdde4cad9e3a",
   "metadata": {},
   "outputs": [],
   "source": [
    "# Set up logging.\n",
    "logging_setup(verbose)\n",
    "_log = logging.getLogger(__name__)"
   ]
  },
  {
   "cell_type": "code",
   "execution_count": 5,
   "id": "9a8b2648-aba7-4d60-9d0a-c4b044b4e133",
   "metadata": {},
   "outputs": [
    {
     "name": "stdout",
     "output_type": "stream",
     "text": [
      "[2024-04-05 12:20:11,825] {credentials.py:557} INFO - Found credentials in environment variables.\n"
     ]
    }
   ],
   "source": [
    "if not check_directory_exists(path=historical_extent_rasters_directory):\n",
    "    e = FileNotFoundError(f\"Directory {historical_extent_rasters_directory} does not exist!\")\n",
    "    _log.error(e)\n",
    "    raise e\n",
    "else:\n",
    "    historical_extent_rasters = find_geotiff_files(directory_path=historical_extent_rasters_directory)"
   ]
  },
  {
   "cell_type": "code",
   "execution_count": 6,
   "id": "bd4e3a35-885b-487c-a154-ef106659d25e",
   "metadata": {},
   "outputs": [],
   "source": [
    "# Get the tile_ids for tiles that actually contain waterbodies.\n",
    "tile_ids_of_interest = [\n",
    "        get_tile_id_tuple_from_filename(file_path=raster_file)\n",
    "        for raster_file in historical_extent_rasters\n",
    "    ]"
   ]
  },
  {
   "cell_type": "code",
   "execution_count": 7,
   "id": "97f31425-7311-4970-9c87-1d92018abcfc",
   "metadata": {},
   "outputs": [],
   "source": [
    "product = \"wofs_ls\""
   ]
  },
  {
   "cell_type": "code",
   "execution_count": 8,
   "id": "ee21ed18-a651-4f1f-b798-9eba445e1fc1",
   "metadata": {},
   "outputs": [],
   "source": [
    "# Parse the temporal range\n",
    "temporal_range_ = DateTimeRange(temporal_range)"
   ]
  },
  {
   "cell_type": "code",
   "execution_count": 9,
   "id": "289e47fe-c418-468c-a22a-e6b79bb82eaa",
   "metadata": {},
   "outputs": [],
   "source": [
    "# Connect to the datacube\n",
    "dc = Datacube(app=\"gap-filling\")"
   ]
  },
  {
   "cell_type": "code",
   "execution_count": 10,
   "id": "e0a672ce-6934-4c0d-b8ad-9e644946e051",
   "metadata": {},
   "outputs": [
    {
     "data": {
      "text/plain": [
       "{'product': 'wofs_ls',\n",
       " 'creation_time': (datetime.datetime(2024, 2, 1, 0, 0),\n",
       "  datetime.datetime(2024, 2, 29, 23, 59, 59, 999999))}"
      ]
     },
     "execution_count": 10,
     "metadata": {},
     "output_type": "execute_result"
    }
   ],
   "source": [
    "# The difference between gap-filling and the other steps is here\n",
    "# we are searching for datasets by their creation date (`creation_time`),\n",
    "# not their acquisition date (`time`).\n",
    "dc_query = dict(product=product, creation_time=(temporal_range_.start, temporal_range_.end))\n",
    "dc_query"
   ]
  },
  {
   "cell_type": "code",
   "execution_count": 11,
   "id": "46faf08f-83d8-404f-a6b9-9402bf045d56",
   "metadata": {},
   "outputs": [
    {
     "name": "stdout",
     "output_type": "stream",
     "text": [
      "CPU times: user 2.14 s, sys: 298 ms, total: 2.44 s\n",
      "Wall time: 1min 12s\n"
     ]
    }
   ],
   "source": [
    "%%time\n",
    "# Search the datacube for all wofs_ls datasets whose creation times (not acquisition time)\n",
    "# fall within the temporal range specified.\n",
    "# E.g  a dataset can have an aquisition date of 2023-12-15 but have been added to the\n",
    "# datacube in 2024-02, which will be its creation date.\n",
    "scenes = dc.find_datasets(**dc_query)"
   ]
  },
  {
   "cell_type": "code",
   "execution_count": 12,
   "id": "7e333906-9abf-4b03-8239-5a00f493e2cb",
   "metadata": {},
   "outputs": [
    {
     "name": "stderr",
     "output_type": "stream",
     "text": [
      "Processing   21,786 scenes: 100%|██████████| 21786/21786 [00:17<00:00, 1233.23it/s]"
     ]
    },
    {
     "name": "stdout",
     "output_type": "stream",
     "text": [
      "[2024-04-05 12:21:42,957] {hopper.py:167} INFO - Filter the 5090 cells to keep only the cells containing the 2783 tile ids of interest.\n"
     ]
    },
    {
     "name": "stderr",
     "output_type": "stream",
     "text": [
      "\n"
     ]
    },
    {
     "name": "stdout",
     "output_type": "stream",
     "text": [
      "[2024-04-05 12:21:43,121] {hopper.py:174} INFO - Total number of cells after filtering: 2783\n",
      "[2024-04-05 12:21:43,122] {hopper.py:178} INFO - For each cell, group the datasets by solar day\n",
      "[2024-04-05 12:21:44,096] {hopper.py:184} INFO - Total number of tasks: 85014\n",
      "CPU times: user 18.8 s, sys: 65.7 ms, total: 18.9 s\n",
      "Wall time: 18.8 s\n"
     ]
    }
   ],
   "source": [
    "%%time\n",
    "# Get the ids of the tasks to process.\n",
    "tasks_ = create_tasks_from_scenes(scenes=scenes, tile_ids_of_interest=tile_ids_of_interest)\n",
    "task_ids = [task_id for task in tasks_ for task_id, task_dataset_ids in task.items()]"
   ]
  },
  {
   "cell_type": "code",
   "execution_count": 13,
   "id": "ea88b4e8-28e2-4db3-a196-81663f9fab07",
   "metadata": {},
   "outputs": [],
   "source": [
    "# For each task id add an empty list as a place holder for the task's datasets' ids\n",
    "# which will be filled  during processing. This is because the processing step is expected\n",
    "# to be done in parallel hence filling the task's datasets' ids will be faster there than\n",
    "# looping over each task to update the required datasets' ids here.\n",
    "tasks = [{task_id: []} for task_id in task_ids]"
   ]
  },
  {
   "cell_type": "code",
   "execution_count": 14,
   "id": "a2c429f3-79c8-4412-8adf-157b9e6f0b67",
   "metadata": {},
   "outputs": [],
   "source": [
    "# Put the tasks in the correct format.\n",
    "tasks = [format_task(task) for task in tasks]"
   ]
  },
  {
   "cell_type": "code",
   "execution_count": 15,
   "id": "8406a4c9-387d-4fcc-bffa-d299e71aaf25",
   "metadata": {},
   "outputs": [
    {
     "name": "stdout",
     "output_type": "stream",
     "text": [
      "[{\"solar_day\": \"2024-01-11\", \"tile_id_x\": 199, \"tile_id_y\": 66, \"task_datasets_ids\": []}, {\"solar_day\": \"2024-01-27\", \"tile_id_x\": 199, \"tile_id_y\": 66, \"task_datasets_ids\": []}, {\"solar_day\": \"2024-02-03\", \"tile_id_x\": 199, \"tile_id_y\": 66, \"task_datasets_ids\": []}, {\"solar_day\": \"2024-02-04\", \"tile_id_x\": 199, \"tile_id_y\": 66, \"task_datasets_ids\": []}, {\"solar_day\": \"2024-01-16\", \"tile_id_x\": 199, \"tile_id_y\": 66, \"task_datasets_ids\": []}, {\"solar_day\": \"2024-02-11\", \"tile_id_x\": 199, \"tile_id_y\": 66, \"task_datasets_ids\": []}, {\"solar_day\": \"2024-01-26\", \"tile_id_x\": 199, \"tile_id_y\": 66, \"task_datasets_ids\": []}, {\"solar_day\": \"2024-01-19\", \"tile_id_x\": 199, \"tile_id_y\": 66, \"task_datasets_ids\": []}, {\"solar_day\": \"2024-01-18\", \"tile_id_x\": 199, \"tile_id_y\": 66, \"task_datasets_ids\": []}, {\"solar_day\": \"2023-09-25\", \"tile_id_x\": 199, \"tile_id_y\": 66, \"task_datasets_ids\": []}]"
     ]
    }
   ],
   "source": [
    "json.dump(tasks[:10], sys.stdout)"
   ]
  }
 ],
 "metadata": {
  "kernelspec": {
   "display_name": "Python 3 (ipykernel)",
   "language": "python",
   "name": "python3"
  },
  "language_info": {
   "codemirror_mode": {
    "name": "ipython",
    "version": 3
   },
   "file_extension": ".py",
   "mimetype": "text/x-python",
   "name": "python",
   "nbconvert_exporter": "python",
   "pygments_lexer": "ipython3",
   "version": "3.10.12"
  }
 },
 "nbformat": 4,
 "nbformat_minor": 5
}
