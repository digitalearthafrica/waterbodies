{
 "cells": [
  {
   "cell_type": "code",
   "execution_count": null,
   "id": "d404f659-94dc-48c0-ba2f-cb33b425c885",
   "metadata": {},
   "outputs": [],
   "source": [
    "import os \n",
    "\n",
    "del os.environ[\"AWS_ACCESS_KEY_ID\"]\n",
    "del os.environ[\"AWS_SECRET_ACCESS_KEY\"]\n",
    "\n",
    "from dotenv import load_dotenv\n",
    "# Path to env file containing the waterbodies database credentials\n",
    "# Only necessary on the Sandbox.\n",
    "env_path = \"/home/jovyan/.env\"\n",
    "load_dotenv(env_path)"
   ]
  },
  {
   "cell_type": "code",
   "execution_count": null,
   "id": "a2bbd805-1b4b-41b3-a095-fdcc62b58dc0",
   "metadata": {},
   "outputs": [],
   "source": [
    "import json\n",
    "import os\n",
    "import logging\n",
    "\n",
    "import geopandas as gpd\n",
    "import rioxarray\n",
    "from odc.geo.geom import BoundingBox, Geometry\n",
    "from odc.geo.xr import to_cog, wrap_xr, write_cog\n",
    "from rasterio.features import rasterize\n",
    "from tqdm import tqdm\n",
    "from waterbodies.grid import WaterbodiesGrid\n",
    "from waterbodies.historical_extent import validate_waterbodies_polygons\n",
    "from waterbodies.io import load_vector_file, check_directory_exists, get_filesystem, is_s3_path\n",
    "from waterbodies.logs import logging_setup\n",
    "from waterbodies.text import tile_id_tuple_to_str"
   ]
  },
  {
   "cell_type": "code",
   "execution_count": null,
   "id": "96b92363-0416-4216-8180-6e0353dc0734",
   "metadata": {},
   "outputs": [],
   "source": [
    "verbose = 1\n",
    "historical_extent_vector_file = \"s3://deafrica-waterbodies-dev/waterbodies/v0.0.2/historical_extent/waterbodies.parquet\"\n",
    "historical_extent_rasters_directory = \"s3://deafrica-waterbodies-dev/waterbodies/v0.0.2/historical_extent_rasters/\""
   ]
  },
  {
   "cell_type": "code",
   "execution_count": null,
   "id": "66dc3917-db0e-426f-b5e8-34be3f5b570b",
   "metadata": {},
   "outputs": [],
   "source": [
    "# Set up logging.\n",
    "logging_setup(verbose)\n",
    "_log = logging.getLogger(__name__)"
   ]
  },
  {
   "cell_type": "code",
   "execution_count": null,
   "id": "1657f922-5379-48aa-86ea-14e633b949c2",
   "metadata": {},
   "outputs": [],
   "source": [
    "if not check_directory_exists(historical_extent_rasters_directory):\n",
    "    fs = get_filesystem(historical_extent_rasters_directory)\n",
    "    fs.mkdirs(historical_extent_rasters_directory)\n",
    "    _log.info(f\"Created directory {historical_extent_rasters_directory}\")"
   ]
  },
  {
   "cell_type": "code",
   "execution_count": null,
   "id": "c83de54e-968c-4b61-bfd3-64701e3d98fc",
   "metadata": {},
   "outputs": [],
   "source": [
    "if is_s3_path(historical_extent_rasters_directory):\n",
    "    # To avoid the error GDAL signalled an error: err_no=1, msg='w+ not supported for /vsis3, \n",
    "    # unless CPL_VSIL_USE_TEMP_FILE_FOR_RANDOM_WRITE is set to YES'\n",
    "    # when writing to s3 using rioxarray's rio.to_raster\n",
    "    os.environ['CPL_VSIL_USE_TEMP_FILE_FOR_RANDOM_WRITE'] = 'YES'"
   ]
  },
  {
   "cell_type": "code",
   "execution_count": null,
   "id": "35e6d116-6015-42ad-867d-c8738b56bca4",
   "metadata": {},
   "outputs": [],
   "source": [
    "gridspec = WaterbodiesGrid().gridspec"
   ]
  },
  {
   "cell_type": "code",
   "execution_count": null,
   "id": "1d2ffaac-daf6-487a-bd14-c768281f0ebc",
   "metadata": {},
   "outputs": [],
   "source": [
    "# Since the historical extent polygons are derived from the WOfS All Time Summary product.\n",
    "# get all the tiles covering the product footprint.\n",
    "# This serves a preliminary tile filter.\n",
    "product_footprint = gpd.read_file(\"https://explorer.digitalearth.africa/api/footprint/wofs_ls_summary_alltime\").to_crs(gridspec.crs)\n",
    "product_footprint_geopolygon = Geometry(geom=product_footprint.geometry.iloc[0], crs=gridspec.crs)\n",
    "tiles = gridspec.tiles_from_geopolygon(geopolygon=product_footprint_geopolygon)\n",
    "tiles = list(tiles)"
   ]
  },
  {
   "cell_type": "code",
   "execution_count": null,
   "id": "ed334909-9f87-437b-9c58-dc2b4dada427",
   "metadata": {},
   "outputs": [],
   "source": [
    "# Load the historical extent polygons\n",
    "historical_extent_polygons = load_vector_file(path=historical_extent_vector_file)\n",
    "historical_extent_polygons = validate_waterbodies_polygons(waterbodies_polygons=historical_extent_polygons)\n",
    "# Reproject the polygons to match the gridspec crs.\n",
    "historical_extent_polygons = historical_extent_polygons.to_crs(gridspec.crs)"
   ]
  },
  {
   "cell_type": "code",
   "execution_count": null,
   "id": "2b26026f-d980-43e2-a0c6-cf215ed74bc9",
   "metadata": {},
   "outputs": [],
   "source": [
    "# Set the WB_ID column as the index\n",
    "historical_extent_polygons.set_index(\"WB_ID\", inplace=True)"
   ]
  },
  {
   "cell_type": "code",
   "execution_count": null,
   "id": "8c900181-b01a-44b0-aa66-a3bbd927ea8e",
   "metadata": {},
   "outputs": [],
   "source": [
    "with tqdm(iterable=tiles, desc=\"Rasterise historical extent polygons by grid tile\", total=len(tiles)) as tiles:\n",
    "    for tile in tiles:\n",
    "        tile_id, tile_geobox = tile\n",
    "\n",
    "        # Get the historical extent polygons that intersect with the extent of the tile's Geobox.\n",
    "        tile_geobox_extent = gpd.GeoDataFrame(geometry=[tile_geobox.extent.geom], crs=tile_geobox.extent.crs)\n",
    "        intersecting_polygons_ids = gpd.sjoin(historical_extent_polygons, tile_geobox_extent, how='inner', predicate='intersects').index.to_list()\n",
    "        \n",
    "        if not intersecting_polygons_ids:\n",
    "            continue\n",
    "        else:\n",
    "            # Rasterize the intersecting historical extent polygons using the WB_ID for the polygon as the pixel value.\n",
    "            intersecting_polygons = historical_extent_polygons[historical_extent_polygons.index.isin(intersecting_polygons_ids)]\n",
    "            shapes = zip(intersecting_polygons.geometry, intersecting_polygons.index)\n",
    "            tile_raster_np = rasterize(shapes=shapes, out_shape=tile_geobox.shape, transform=tile_geobox.transform)\n",
    "            tile_raster_ds = wrap_xr(im=tile_raster_np, gbox=tile_geobox)\n",
    "            # Add a dictionary mapping the WB_ID values to the UID values as part of the metadata of the raster.\n",
    "            tags = dict(WB_ID_to_UID=json.dumps(dict(zip(intersecting_polygons.index, intersecting_polygons.UID))))\n",
    "            # Write the raster to file.\n",
    "            raster_path = os.path.join(historical_extent_rasters_directory, f\"{tile_id_tuple_to_str(tile_id)}.tif\")\n",
    "            tile_raster_ds.rio.to_raster(raster_path=raster_path, tags=tags, compute=True)"
   ]
  }
 ],
 "metadata": {
  "kernelspec": {
   "display_name": "Python 3 (ipykernel)",
   "language": "python",
   "name": "python3"
  },
  "language_info": {
   "codemirror_mode": {
    "name": "ipython",
    "version": 3
   },
   "file_extension": ".py",
   "mimetype": "text/x-python",
   "name": "python",
   "nbconvert_exporter": "python",
   "pygments_lexer": "ipython3",
   "version": "3.10.12"
  }
 },
 "nbformat": 4,
 "nbformat_minor": 5
}
