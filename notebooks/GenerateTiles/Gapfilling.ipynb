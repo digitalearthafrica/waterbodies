{
 "cells": [
  {
   "cell_type": "code",
   "execution_count": 1,
   "id": "30f899b0-02a9-4454-9e9e-9c40fe5423fa",
   "metadata": {},
   "outputs": [],
   "source": [
    "import logging\n",
    "from odc.geo.geobox import GeoBox\n",
    "from tqdm import tqdm\n",
    "from datacube import Datacube\n",
    "from odc.stats.model import DateTimeRange\n",
    "from waterbodies.io import check_directory_exists, find_geotiff_files\n",
    "from waterbodies.logs import logging_setup\n",
    "from waterbodies.text import parse_tile_id_from_filename\n",
    "from waterbodies.hopper import create_tasks_from_scenes, GRIDSPEC"
   ]
  },
  {
   "cell_type": "code",
   "execution_count": 2,
   "id": "f6ba83a6-f2bd-47e6-9f02-8aa361b3e05f",
   "metadata": {},
   "outputs": [
    {
     "data": {
      "text/plain": [
       "True"
      ]
     },
     "execution_count": 2,
     "metadata": {},
     "output_type": "execute_result"
    }
   ],
   "source": [
    "from dotenv import load_dotenv\n",
    "# Path to env file containing the waterbodies database credentials\n",
    "# Only necessary on the Sandbox.\n",
    "env_path = \"/home/jovyan/.env\"\n",
    "load_dotenv(env_path)"
   ]
  },
  {
   "cell_type": "code",
   "execution_count": 3,
   "id": "58450a47-5c9c-474c-acee-15743b46b96c",
   "metadata": {},
   "outputs": [],
   "source": [
    "verbose =1\n",
    "run_type = \"gap-filling\"\n",
    "temporal_range = \"2024-02--P1M\"\n",
    "historical_extent_rasters_directory = \"s3://deafrica-services/waterbodies/v0.0.2/conflux/historical_extent_rasters/\""
   ]
  },
  {
   "cell_type": "code",
   "execution_count": 4,
   "id": "9f520655-8531-4dc1-8e0e-fdde4cad9e3a",
   "metadata": {},
   "outputs": [],
   "source": [
    "# Set up logging.\n",
    "logging_setup(verbose)\n",
    "_log = logging.getLogger(__name__)"
   ]
  },
  {
   "cell_type": "code",
   "execution_count": 5,
   "id": "ee21ed18-a651-4f1f-b798-9eba445e1fc1",
   "metadata": {},
   "outputs": [],
   "source": [
    "# Parse the temporal range\n",
    "if run_type != \"regular-update\" :\n",
    "    temporal_range_ = DateTimeRange(temporal_range)"
   ]
  },
  {
   "cell_type": "code",
   "execution_count": 6,
   "id": "9a8b2648-aba7-4d60-9d0a-c4b044b4e133",
   "metadata": {},
   "outputs": [],
   "source": [
    "if not check_directory_exists(path=historical_extent_rasters_directory):\n",
    "    e = FileNotFoundError(f\"Directory {historical_extent_rasters_directory} does not exist!\")\n",
    "    _log.error(e)\n",
    "    raise e\n",
    "else:\n",
    "    historical_extent_rasters = find_geotiff_files(directory_path=historical_extent_rasters_directory)"
   ]
  },
  {
   "cell_type": "code",
   "execution_count": 7,
   "id": "bd4e3a35-885b-487c-a154-ef106659d25e",
   "metadata": {},
   "outputs": [],
   "source": [
    "# Get the tile_ids for tiles that actually contain waterbodies.\n",
    "tile_ids_of_interest = [\n",
    "    parse_tile_id_from_filename(file_path=raster_file)\n",
    "    for raster_file in historical_extent_rasters\n",
    "]"
   ]
  },
  {
   "cell_type": "code",
   "execution_count": 8,
   "id": "97f31425-7311-4970-9c87-1d92018abcfc",
   "metadata": {},
   "outputs": [],
   "source": [
    "product = \"wofs_ls\""
   ]
  },
  {
   "cell_type": "code",
   "execution_count": 9,
   "id": "289e47fe-c418-468c-a22a-e6b79bb82eaa",
   "metadata": {},
   "outputs": [],
   "source": [
    "# Connect to the datacube\n",
    "dc = Datacube(app=\"gap-filling\")"
   ]
  },
  {
   "cell_type": "code",
   "execution_count": 10,
   "id": "e0a672ce-6934-4c0d-b8ad-9e644946e051",
   "metadata": {},
   "outputs": [
    {
     "data": {
      "text/plain": [
       "{'product': 'wofs_ls',\n",
       " 'creation_time': (datetime.datetime(2024, 2, 1, 0, 0),\n",
       "  datetime.datetime(2024, 2, 29, 23, 59, 59, 999999))}"
      ]
     },
     "execution_count": 10,
     "metadata": {},
     "output_type": "execute_result"
    }
   ],
   "source": [
    "# The difference between gap-filling and the other steps is here\n",
    "# we are searching for datasets by their creation date (`creation_time`),\n",
    "# not their acquisition date (`time`).\n",
    "dc_query = dict(product=product, creation_time=(temporal_range_.start, temporal_range_.end))\n",
    "dc_query"
   ]
  },
  {
   "cell_type": "code",
   "execution_count": 11,
   "id": "46faf08f-83d8-404f-a6b9-9402bf045d56",
   "metadata": {},
   "outputs": [
    {
     "name": "stdout",
     "output_type": "stream",
     "text": [
      "CPU times: user 1.95 s, sys: 542 ms, total: 2.49 s\n",
      "Wall time: 1min 24s\n"
     ]
    }
   ],
   "source": [
    "%%time\n",
    "# Search the datacube for all wofs_ls datasets whose creation times (not acquisition time)\n",
    "# fall within the temporal range specified.\n",
    "# E.g  a dataset can have an aquisition date of 2023-12-15 but have been added to the\n",
    "# datacube in 2024-02, which will be its creation date.\n",
    "scenes = dc.find_datasets(**dc_query)"
   ]
  },
  {
   "cell_type": "code",
   "execution_count": 12,
   "id": "7e333906-9abf-4b03-8239-5a00f493e2cb",
   "metadata": {},
   "outputs": [
    {
     "name": "stderr",
     "output_type": "stream",
     "text": [
      "Processing   21,786 scenes: 100%|██████████| 21786/21786 [00:27<00:00, 801.06it/s]"
     ]
    },
    {
     "name": "stdout",
     "output_type": "stream",
     "text": [
      "[2024-03-28 20:20:46,878] {hopper.py:113} INFO - Filter the 5092 cells to keep only the cells containing the 2783 tile ids of interest.\n"
     ]
    },
    {
     "name": "stderr",
     "output_type": "stream",
     "text": [
      "\n"
     ]
    },
    {
     "name": "stdout",
     "output_type": "stream",
     "text": [
      "[2024-03-28 20:20:47,047] {hopper.py:120} INFO - Total number of cells after filtering: 2783\n",
      "[2024-03-28 20:20:47,048] {hopper.py:124} INFO - For each cell group the datasets by solar day\n",
      "[2024-03-28 20:20:47,953] {hopper.py:137} INFO - Total of 19,541 unique dataset UUIDs.\n",
      "[2024-03-28 20:20:47,954] {hopper.py:138} INFO - Total number of tasks: 85015\n",
      "CPU times: user 28.1 s, sys: 323 ms, total: 28.4 s\n",
      "Wall time: 28.3 s\n"
     ]
    }
   ],
   "source": [
    "%%time\n",
    "# Identify the tasks / waterbody observations affected.\n",
    "affected_tasks = create_tasks_from_scenes(scenes=scenes, tile_ids_of_interest=tile_ids_of_interest)"
   ]
  },
  {
   "cell_type": "code",
   "execution_count": 13,
   "id": "e3505462-1986-4b4f-bdbd-0f57fbb1eaea",
   "metadata": {},
   "outputs": [],
   "source": [
    "# Get the ids for the affected waterbody observations.\n",
    "task_ids = [\n",
    "            task_id for task in affected_tasks for task_id, task_dataset_ids in task.items()\n",
    "        ]"
   ]
  },
  {
   "cell_type": "code",
   "execution_count": 14,
   "id": "12009365-027e-4968-a499-bfa8e2a74e07",
   "metadata": {},
   "outputs": [],
   "source": [
    "# For each task id add an empty list as a place holder for the task datasets ids.\n",
    "# This will be filled in the drill function which is easier to do in parallel than\n",
    "# looping over each task to update the required task dataset ids here.\n",
    "tasks = [{task_id: []} for task_id in task_ids]"
   ]
  },
  {
   "cell_type": "code",
   "execution_count": 15,
   "id": "c4946872-c178-4663-8b00-f76135f58958",
   "metadata": {},
   "outputs": [
    {
     "data": {
      "text/plain": [
       "[{('2024-01-11', 199, 66): []},\n",
       " {('2024-01-27', 199, 66): []},\n",
       " {('2024-02-03', 199, 66): []},\n",
       " {('2024-02-04', 199, 66): []},\n",
       " {('2024-01-16', 199, 66): []},\n",
       " {('2024-02-11', 199, 66): []},\n",
       " {('2024-01-26', 199, 66): []},\n",
       " {('2024-01-19', 199, 66): []},\n",
       " {('2024-01-18', 199, 66): []},\n",
       " {('2023-09-25', 199, 66): []},\n",
       " {('2023-07-06', 199, 66): []},\n",
       " {('2023-07-28', 199, 66): []},\n",
       " {('2023-12-15', 199, 66): []},\n",
       " {('2023-12-10', 199, 66): []},\n",
       " {('2023-07-23', 199, 66): []},\n",
       " {('2024-01-06', 199, 66): []},\n",
       " {('2023-07-01', 199, 66): []},\n",
       " {('2023-08-02', 199, 66): []},\n",
       " {('2023-08-19', 199, 66): []},\n",
       " {('2023-06-09', 199, 66): []},\n",
       " {('2023-10-07', 199, 66): []},\n",
       " {('2023-10-12', 199, 66): []},\n",
       " {('2023-06-14', 199, 66): []},\n",
       " {('2023-10-17', 199, 66): []},\n",
       " {('2023-08-29', 199, 66): []},\n",
       " {('2023-12-20', 199, 66): []},\n",
       " {('2023-09-20', 199, 66): []},\n",
       " {('2023-06-19', 199, 66): []},\n",
       " {('2023-11-13', 199, 66): []},\n",
       " {('2023-09-15', 199, 66): []},\n",
       " {('2023-07-11', 199, 66): []},\n",
       " {('2024-01-11', 200, 66): []},\n",
       " {('2024-01-27', 200, 66): []},\n",
       " {('2024-02-04', 200, 66): []},\n",
       " {('2024-01-16', 200, 66): []},\n",
       " {('2024-02-05', 200, 66): []},\n",
       " {('2024-02-13', 200, 66): []},\n",
       " {('2024-01-19', 200, 66): []},\n",
       " {('2024-01-20', 200, 66): []},\n",
       " {('2024-01-28', 200, 66): []},\n",
       " {('2023-07-06', 200, 66): []},\n",
       " {('2023-07-28', 200, 66): []},\n",
       " {('2023-12-15', 200, 66): []},\n",
       " {('2024-01-01', 200, 66): []},\n",
       " {('2023-07-18', 200, 66): []},\n",
       " {('2023-09-05', 200, 66): []},\n",
       " {('2023-12-10', 200, 66): []},\n",
       " {('2023-06-04', 200, 66): []},\n",
       " {('2023-07-23', 200, 66): []},\n",
       " {('2024-01-06', 200, 66): []},\n",
       " {('2023-07-01', 200, 66): []},\n",
       " {('2023-08-19', 200, 66): []},\n",
       " {('2023-09-10', 200, 66): []},\n",
       " {('2023-08-14', 200, 66): []},\n",
       " {('2023-06-09', 200, 66): []},\n",
       " {('2023-10-07', 200, 66): []},\n",
       " {('2023-10-12', 200, 66): []},\n",
       " {('2023-06-14', 200, 66): []},\n",
       " {('2023-10-17', 200, 66): []},\n",
       " {('2023-10-02', 200, 66): []},\n",
       " {('2023-11-13', 200, 66): []},\n",
       " {('2023-09-15', 200, 66): []},\n",
       " {('2023-06-26', 200, 66): []},\n",
       " {('2023-09-20', 200, 66): []},\n",
       " {('2024-01-11', 201, 66): []},\n",
       " {('2024-01-29', 201, 66): []},\n",
       " {('2024-02-06', 201, 66): []},\n",
       " {('2024-02-05', 201, 66): []},\n",
       " {('2024-02-13', 201, 66): []},\n",
       " {('2024-01-20', 201, 66): []},\n",
       " {('2024-01-28', 201, 66): []},\n",
       " {('2024-01-21', 201, 66): []},\n",
       " {('2024-01-13', 201, 66): []},\n",
       " {('2023-10-24', 201, 66): []},\n",
       " {('2024-01-01', 201, 66): []},\n",
       " {('2023-07-18', 201, 66): []},\n",
       " {('2023-09-05', 201, 66): []},\n",
       " {('2023-12-10', 201, 66): []},\n",
       " {('2023-06-04', 201, 66): []},\n",
       " {('2023-07-23', 201, 66): []},\n",
       " {('2024-01-06', 201, 66): []},\n",
       " {('2023-07-01', 201, 66): []},\n",
       " {('2023-08-31', 201, 66): []},\n",
       " {('2023-12-27', 201, 66): []},\n",
       " {('2023-08-19', 201, 66): []},\n",
       " {('2023-09-10', 201, 66): []},\n",
       " {('2023-08-14', 201, 66): []},\n",
       " {('2023-06-09', 201, 66): []},\n",
       " {('2023-10-07', 201, 66): []},\n",
       " {('2023-08-09', 201, 66): []},\n",
       " {('2023-05-30', 201, 66): []},\n",
       " {('2023-06-21', 201, 66): []},\n",
       " {('2023-10-02', 201, 66): []},\n",
       " {('2023-07-13', 201, 66): []},\n",
       " {('2023-09-15', 201, 66): []},\n",
       " {('2023-09-27', 201, 66): []},\n",
       " {('2023-06-26', 201, 66): []},\n",
       " {('2024-01-11', 199, 67): []},\n",
       " {('2024-01-27', 199, 67): []},\n",
       " {('2024-02-03', 199, 67): []}]"
      ]
     },
     "execution_count": 15,
     "metadata": {},
     "output_type": "execute_result"
    }
   ],
   "source": [
    "# View the first 100 tasks\n",
    "tasks[:100]"
   ]
  }
 ],
 "metadata": {
  "kernelspec": {
   "display_name": "Python 3 (ipykernel)",
   "language": "python",
   "name": "python3"
  },
  "language_info": {
   "codemirror_mode": {
    "name": "ipython",
    "version": 3
   },
   "file_extension": ".py",
   "mimetype": "text/x-python",
   "name": "python",
   "nbconvert_exporter": "python",
   "pygments_lexer": "ipython3",
   "version": "3.10.12"
  }
 },
 "nbformat": 4,
 "nbformat_minor": 5
}
