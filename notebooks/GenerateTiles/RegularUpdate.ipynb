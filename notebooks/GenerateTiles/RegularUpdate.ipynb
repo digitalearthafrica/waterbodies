{
 "cells": [
  {
   "cell_type": "code",
   "execution_count": 1,
   "id": "30f899b0-02a9-4454-9e9e-9c40fe5423fa",
   "metadata": {},
   "outputs": [],
   "source": [
    "import logging\n",
    "from datetime import datetime\n",
    "\n",
    "from datacube import Datacube\n",
    "from odc.stats.model import DateTimeRange\n",
    "from waterbodies.db import get_waterbodies_engine\n",
    "from waterbodies.hopper import create_tasks_from_scenes\n",
    "from waterbodies.io import check_directory_exists, find_geotiff_files\n",
    "from waterbodies.logs import logging_setup\n",
    "from waterbodies.surface_area_change import get_last_waterbody_observation_date\n",
    "from waterbodies.text import parse_tile_id_from_filename"
   ]
  },
  {
   "cell_type": "code",
   "execution_count": 2,
   "id": "f6ba83a6-f2bd-47e6-9f02-8aa361b3e05f",
   "metadata": {},
   "outputs": [
    {
     "data": {
      "text/plain": [
       "True"
      ]
     },
     "execution_count": 2,
     "metadata": {},
     "output_type": "execute_result"
    }
   ],
   "source": [
    "from dotenv import load_dotenv\n",
    "# Path to env file containing the waterbodies database credentials\n",
    "# Only necessary on the Sandbox.\n",
    "env_path = \"/home/jovyan/.env\"\n",
    "load_dotenv(env_path)"
   ]
  },
  {
   "cell_type": "code",
   "execution_count": 3,
   "id": "58450a47-5c9c-474c-acee-15743b46b96c",
   "metadata": {},
   "outputs": [],
   "source": [
    "verbose =1\n",
    "run_type = \"regular-update\"\n",
    "historical_extent_rasters_directory = \"s3://deafrica-services/waterbodies/v0.0.2/conflux/historical_extent_rasters/\""
   ]
  },
  {
   "cell_type": "code",
   "execution_count": 4,
   "id": "9f520655-8531-4dc1-8e0e-fdde4cad9e3a",
   "metadata": {},
   "outputs": [],
   "source": [
    "# Set up logging.\n",
    "logging_setup(verbose)\n",
    "_log = logging.getLogger(__name__)"
   ]
  },
  {
   "cell_type": "code",
   "execution_count": 5,
   "id": "ee21ed18-a651-4f1f-b798-9eba445e1fc1",
   "metadata": {},
   "outputs": [],
   "source": [
    "# Parse the temporal range\n",
    "if run_type != \"regular-update\" :\n",
    "    temporal_range_ = DateTimeRange(temporal_range)"
   ]
  },
  {
   "cell_type": "code",
   "execution_count": 6,
   "id": "9a8b2648-aba7-4d60-9d0a-c4b044b4e133",
   "metadata": {},
   "outputs": [],
   "source": [
    "if not check_directory_exists(path=historical_extent_rasters_directory):\n",
    "    e = FileNotFoundError(f\"Directory {historical_extent_rasters_directory} does not exist!\")\n",
    "    _log.error(e)\n",
    "    raise e\n",
    "else:\n",
    "    historical_extent_rasters = find_geotiff_files(directory_path=historical_extent_rasters_directory)"
   ]
  },
  {
   "cell_type": "code",
   "execution_count": 7,
   "id": "bd4e3a35-885b-487c-a154-ef106659d25e",
   "metadata": {},
   "outputs": [],
   "source": [
    "# Get the tile_ids for tiles that actually contain waterbodies.\n",
    "tile_ids_of_interest = [\n",
    "    parse_tile_id_from_filename(file_path=raster_file)\n",
    "    for raster_file in historical_extent_rasters\n",
    "]"
   ]
  },
  {
   "cell_type": "code",
   "execution_count": 8,
   "id": "bb3b99c8-4e6e-4670-b017-3e166f1f1a64",
   "metadata": {},
   "outputs": [],
   "source": [
    "product = \"wofs_ls\""
   ]
  },
  {
   "cell_type": "code",
   "execution_count": 9,
   "id": "8b990392-8f7c-44ac-a490-61f1776a3ab1",
   "metadata": {},
   "outputs": [],
   "source": [
    "# Connect to the waterbodies engine\n",
    "engine = get_waterbodies_engine()"
   ]
  },
  {
   "cell_type": "code",
   "execution_count": 10,
   "id": "e4fb004c-bc13-450e-b5fc-0f01cbdfb5dd",
   "metadata": {},
   "outputs": [
    {
     "name": "stdout",
     "output_type": "stream",
     "text": [
      "CPU times: user 43.7 ms, sys: 5.73 ms, total: 49.5 ms\n",
      "Wall time: 1min 20s\n"
     ]
    }
   ],
   "source": [
    "%%time\n",
    "# TODO: Check if this should be done here or should the time range be defined outside\n",
    "# this step then passed as to temporal-range parameter for this step\n",
    "# Get the date of the most recent waterbody observation\n",
    "last_observation_date = get_last_waterbody_observation_date(engine=engine)\n",
    "today = datetime.now()"
   ]
  },
  {
   "cell_type": "code",
   "execution_count": 11,
   "id": "289e47fe-c418-468c-a22a-e6b79bb82eaa",
   "metadata": {},
   "outputs": [],
   "source": [
    "# Connect to the datacube\n",
    "dc = Datacube(app=\"regular-update\")"
   ]
  },
  {
   "cell_type": "code",
   "execution_count": 12,
   "id": "e0a672ce-6934-4c0d-b8ad-9e644946e051",
   "metadata": {},
   "outputs": [
    {
     "data": {
      "text/plain": [
       "{'product': 'wofs_ls',\n",
       " 'time': (datetime.datetime(2023, 12, 22, 0, 0),\n",
       "  datetime.datetime(2024, 3, 28, 18, 36, 27, 939339))}"
      ]
     },
     "execution_count": 12,
     "metadata": {},
     "output_type": "execute_result"
    }
   ],
   "source": [
    "# Define the datacube query \n",
    "dc_query = dict(product=product, time=(last_observation_date, today))\n",
    "dc_query"
   ]
  },
  {
   "cell_type": "code",
   "execution_count": 13,
   "id": "46faf08f-83d8-404f-a6b9-9402bf045d56",
   "metadata": {},
   "outputs": [
    {
     "name": "stdout",
     "output_type": "stream",
     "text": [
      "CPU times: user 1.46 s, sys: 141 ms, total: 1.6 s\n",
      "Wall time: 57.6 s\n"
     ]
    }
   ],
   "source": [
    "%%time\n",
    "# Query the datacube for all wofs_ls datasets whose acquisition times fall within\n",
    "# the temporal range specified.\n",
    "scenes = dc.find_datasets(**dc_query)"
   ]
  },
  {
   "cell_type": "code",
   "execution_count": 14,
   "id": "7e333906-9abf-4b03-8239-5a00f493e2cb",
   "metadata": {},
   "outputs": [
    {
     "name": "stderr",
     "output_type": "stream",
     "text": [
      "Processing   14,149 scenes: 100%|██████████| 14149/14149 [00:23<00:00, 612.53it/s]"
     ]
    },
    {
     "name": "stdout",
     "output_type": "stream",
     "text": [
      "[2024-03-28 18:37:48,733] {hopper.py:148} INFO - Filter the 4452 cells to keep only the cells containing the 2783 tile ids of interest.\n"
     ]
    },
    {
     "name": "stderr",
     "output_type": "stream",
     "text": [
      "\n"
     ]
    },
    {
     "name": "stdout",
     "output_type": "stream",
     "text": [
      "[2024-03-28 18:37:49,004] {hopper.py:155} INFO - Total number of cells after filtering: 2783\n",
      "[2024-03-28 18:37:49,005] {hopper.py:159} INFO - For each cell group the datasets by solar day\n",
      "[2024-03-28 18:37:49,568] {hopper.py:172} INFO - Total of 12,703 unique dataset UUIDs.\n",
      "[2024-03-28 18:37:49,569] {hopper.py:173} INFO - Total number of tasks: 53143\n",
      "CPU times: user 23.8 s, sys: 282 ms, total: 24 s\n",
      "Wall time: 24 s\n"
     ]
    }
   ],
   "source": [
    "%%time\n",
    "tasks = create_tasks_from_scenes(scenes=scenes, tile_ids_of_interest=tile_ids_of_interest)"
   ]
  },
  {
   "cell_type": "code",
   "execution_count": 15,
   "id": "0b6bd131-b097-49b4-bc0b-2a948baf4b65",
   "metadata": {},
   "outputs": [
    {
     "data": {
      "text/plain": [
       "[{('2024-01-11', 199, 66): [UUID('eb5981ab-8338-5737-931c-02fea677f994'),\n",
       "   UUID('1831d50f-543d-52c5-a526-7e8a8d140f51'),\n",
       "   UUID('7152eed5-8dc0-5fb7-a793-37eea054169d'),\n",
       "   UUID('5868aadd-d085-504f-9e7c-0c170fcdd124')]},\n",
       " {('2024-01-27', 199, 66): [UUID('7680033a-c8e9-5eda-8f0a-3e40f3bd2e8f'),\n",
       "   UUID('e47e38cd-10b7-540e-bcc6-f28c0101ddfc')]},\n",
       " {('2024-02-03', 199, 66): [UUID('e98a0f0c-8ed3-5352-9b9a-648ebcd9e08e'),\n",
       "   UUID('38db8165-11c5-5365-b825-f64aaa04f936')]},\n",
       " {('2024-02-04', 199, 66): [UUID('cb9c0ec1-b04a-5548-8a4d-d49660c65058'),\n",
       "   UUID('5ca8089d-2256-59e6-86c9-7ea44f3dbca4')]},\n",
       " {('2024-01-16', 199, 66): [UUID('3109e19d-23a0-56fa-8bbc-cc7c2fe1fc4f'),\n",
       "   UUID('0285b297-d8ee-5b5b-9255-38829f27d8db')]},\n",
       " {('2024-02-11', 199, 66): [UUID('21d78e36-94a1-525b-b603-4ea92351cfec'),\n",
       "   UUID('de797454-6372-5c5d-81ef-093106de8aaf')]},\n",
       " {('2024-01-26', 199, 66): [UUID('de21b012-4dc5-565f-aa3b-6a339b2b3f57'),\n",
       "   UUID('e88707cd-9e31-5035-80d1-f66355c98c7f')]},\n",
       " {('2024-01-19', 199, 66): [UUID('e1062c5a-911e-5557-a7ce-60b0586d3c12'),\n",
       "   UUID('b82ae9a4-6d9c-50f5-af4f-ca6f681c81ba')]},\n",
       " {('2024-01-18', 199, 66): [UUID('8dbbdd23-624d-5027-90ba-200c33ba0be4'),\n",
       "   UUID('296a9651-f621-5c73-a454-243ece8260a0')]},\n",
       " {('2024-01-06', 199, 66): [UUID('fe38eaed-0f51-506c-9ec7-c11888f9a729'),\n",
       "   UUID('acaab3bb-d7f3-5475-88a8-cc1edcdcbc0e')]},\n",
       " {('2024-02-27', 199, 66): [UUID('f4210602-75ff-5bc4-b67e-f7ef4e561e28'),\n",
       "   UUID('bf3c9579-f97b-5c07-ba5f-ba531fcd4197')]},\n",
       " {('2024-02-20', 199, 66): [UUID('cbcbb784-ccb0-59c8-82e4-c1dbf9297206'),\n",
       "   UUID('4a89cd70-d0b4-5142-922c-052d5dc6f920')]},\n",
       " {('2024-02-12', 199, 66): [UUID('3e43b26a-7b3a-5971-b1ff-c4e5103138b2'),\n",
       "   UUID('79d07ff1-bf59-5dd7-8313-c941c8681d1b')]},\n",
       " {('2024-02-19', 199, 66): [UUID('68350e56-c38d-55dd-b4c9-8af2e2e1e3ee'),\n",
       "   UUID('5a1c69fd-5dec-554a-894f-e72fade9f74a')]},\n",
       " {('2024-03-07', 199, 66): [UUID('09052c8b-8312-5f51-a887-b3cab9f4bc1d'),\n",
       "   UUID('c54d9bc4-2b4b-5204-b3f9-3e23e63b0df4')]},\n",
       " {('2024-02-28', 199, 66): [UUID('ae9856b5-f24b-580e-b120-709612986de9'),\n",
       "   UUID('fc50d028-53a1-5080-9703-97a4470e1813')]},\n",
       " {('2024-03-06', 199, 66): [UUID('b398966e-03fd-5e52-99aa-88ecbe7c0078'),\n",
       "   UUID('debc33b4-b0f0-593b-8a67-81b00030bb09')]},\n",
       " {('2024-03-14', 199, 66): [UUID('b88d9aac-11ee-5f39-84da-46e014984c11'),\n",
       "   UUID('4222e2bb-e0ae-589e-9414-620f57c33617')]},\n",
       " {('2024-03-23', 199, 66): [UUID('9930fb99-7660-5efb-856f-e5ef1211e386'),\n",
       "   UUID('eae15c6b-79ae-59b6-b29e-4375f90b9064')]},\n",
       " {('2024-01-11', 200, 66): [UUID('eb5981ab-8338-5737-931c-02fea677f994'),\n",
       "   UUID('1831d50f-543d-52c5-a526-7e8a8d140f51'),\n",
       "   UUID('7152eed5-8dc0-5fb7-a793-37eea054169d'),\n",
       "   UUID('5868aadd-d085-504f-9e7c-0c170fcdd124')]},\n",
       " {('2024-01-27', 200, 66): [UUID('7680033a-c8e9-5eda-8f0a-3e40f3bd2e8f'),\n",
       "   UUID('e47e38cd-10b7-540e-bcc6-f28c0101ddfc')]},\n",
       " {('2024-02-04', 200, 66): [UUID('cb9c0ec1-b04a-5548-8a4d-d49660c65058'),\n",
       "   UUID('5ca8089d-2256-59e6-86c9-7ea44f3dbca4')]},\n",
       " {('2024-01-16', 200, 66): [UUID('3109e19d-23a0-56fa-8bbc-cc7c2fe1fc4f'),\n",
       "   UUID('0285b297-d8ee-5b5b-9255-38829f27d8db')]},\n",
       " {('2024-02-05', 200, 66): [UUID('b5885d5d-a905-58a5-b4e8-14342380a65f'),\n",
       "   UUID('424ef9d7-9a71-5675-8a3b-1a085a9681e3')]},\n",
       " {('2024-02-13', 200, 66): [UUID('255f8c0f-d4a8-5efe-b1e9-0067953c2ef2'),\n",
       "   UUID('542be6fe-da93-578d-a720-cdab10358534')]},\n",
       " {('2024-01-19', 200, 66): [UUID('e1062c5a-911e-5557-a7ce-60b0586d3c12'),\n",
       "   UUID('b82ae9a4-6d9c-50f5-af4f-ca6f681c81ba')]},\n",
       " {('2024-01-20', 200, 66): [UUID('18391ee6-3d5a-5af1-b526-284f0d79003a'),\n",
       "   UUID('2f03d55c-f726-580d-b830-3467907788e9')]},\n",
       " {('2024-01-28', 200, 66): [UUID('23cb0166-000f-52df-9a75-490ce26f220c'),\n",
       "   UUID('62f13849-0858-5ff6-8f6d-ee5a89f890ae')]},\n",
       " {('2024-01-01', 200, 66): [UUID('47f2cfe1-0642-5f49-bc7e-d5cf58576e07'),\n",
       "   UUID('2620fa95-6755-504a-ab5f-6c4de6b65c0a')]},\n",
       " {('2024-01-06', 200, 66): [UUID('fe38eaed-0f51-506c-9ec7-c11888f9a729'),\n",
       "   UUID('acaab3bb-d7f3-5475-88a8-cc1edcdcbc0e')]},\n",
       " {('2024-02-20', 200, 66): [UUID('cbcbb784-ccb0-59c8-82e4-c1dbf9297206'),\n",
       "   UUID('4a89cd70-d0b4-5142-922c-052d5dc6f920')]},\n",
       " {('2024-02-12', 200, 66): [UUID('3e43b26a-7b3a-5971-b1ff-c4e5103138b2'),\n",
       "   UUID('79d07ff1-bf59-5dd7-8313-c941c8681d1b')]},\n",
       " {('2024-02-21', 200, 66): [UUID('bb9dfde6-699b-59f5-bbbb-e3ac0e35b135'),\n",
       "   UUID('706e276e-2e8c-5117-aa6f-ea8ac1bda71e')]},\n",
       " {('2024-02-29', 200, 66): [UUID('a36afc61-e592-58d7-81a8-10d580f16d67'),\n",
       "   UUID('6ffe89e7-2232-5028-baf7-589b5d6daa72')]},\n",
       " {('2024-03-07', 200, 66): [UUID('09052c8b-8312-5f51-a887-b3cab9f4bc1d'),\n",
       "   UUID('c54d9bc4-2b4b-5204-b3f9-3e23e63b0df4')]},\n",
       " {('2024-02-28', 200, 66): [UUID('ae9856b5-f24b-580e-b120-709612986de9'),\n",
       "   UUID('fc50d028-53a1-5080-9703-97a4470e1813')]},\n",
       " {('2024-03-08', 200, 66): [UUID('0e612f8f-9c06-51f0-bc8f-06638dcb5ad2'),\n",
       "   UUID('9a066c66-67cc-55e4-9d2b-c8993c19578c')]},\n",
       " {('2024-03-16', 200, 66): [UUID('52cac969-38b0-5fb4-8455-6da8dd1f8089'),\n",
       "   UUID('2b1ffbd3-3e4a-585e-bc6b-eca2cb965f94')]},\n",
       " {('2024-03-23', 200, 66): [UUID('9930fb99-7660-5efb-856f-e5ef1211e386'),\n",
       "   UUID('eae15c6b-79ae-59b6-b29e-4375f90b9064')]},\n",
       " {('2024-01-11', 201, 66): [UUID('eb5981ab-8338-5737-931c-02fea677f994'),\n",
       "   UUID('1831d50f-543d-52c5-a526-7e8a8d140f51')]},\n",
       " {('2024-01-29', 201, 66): [UUID('6109dc9c-791a-536c-9e02-7da734559bc5')]},\n",
       " {('2024-02-06', 201, 66): [UUID('f013d36a-70a7-5525-917f-598876a11dcf')]},\n",
       " {('2024-02-05', 201, 66): [UUID('b5885d5d-a905-58a5-b4e8-14342380a65f'),\n",
       "   UUID('424ef9d7-9a71-5675-8a3b-1a085a9681e3')]},\n",
       " {('2024-02-13', 201, 66): [UUID('255f8c0f-d4a8-5efe-b1e9-0067953c2ef2'),\n",
       "   UUID('542be6fe-da93-578d-a720-cdab10358534')]},\n",
       " {('2024-01-20', 201, 66): [UUID('18391ee6-3d5a-5af1-b526-284f0d79003a'),\n",
       "   UUID('2f03d55c-f726-580d-b830-3467907788e9')]},\n",
       " {('2024-01-28', 201, 66): [UUID('23cb0166-000f-52df-9a75-490ce26f220c'),\n",
       "   UUID('62f13849-0858-5ff6-8f6d-ee5a89f890ae')]},\n",
       " {('2024-01-21', 201, 66): [UUID('fd96a3f9-88e9-5687-b6a0-34beb94aad5d')]},\n",
       " {('2024-01-13', 201, 66): [UUID('987e8e0b-5767-5c41-a7e7-6c2fa692b97b')]},\n",
       " {('2024-01-01', 201, 66): [UUID('47f2cfe1-0642-5f49-bc7e-d5cf58576e07'),\n",
       "   UUID('2620fa95-6755-504a-ab5f-6c4de6b65c0a')]},\n",
       " {('2024-01-06', 201, 66): [UUID('fe38eaed-0f51-506c-9ec7-c11888f9a729'),\n",
       "   UUID('acaab3bb-d7f3-5475-88a8-cc1edcdcbc0e')]},\n",
       " {('2023-12-27', 201, 66): [UUID('d392e66f-784b-554a-a5e2-3c08179b10c8'),\n",
       "   UUID('bfc3fe35-ae54-5ce5-b89a-42c9fb53ebfa')]},\n",
       " {('2024-02-14', 201, 66): [UUID('a825bfe7-7650-5d07-9912-f50a747bb508')]},\n",
       " {('2024-02-22', 201, 66): [UUID('5393b03a-5969-5f89-8247-dfbe14c8919a')]},\n",
       " {('2024-02-21', 201, 66): [UUID('bb9dfde6-699b-59f5-bbbb-e3ac0e35b135'),\n",
       "   UUID('706e276e-2e8c-5117-aa6f-ea8ac1bda71e')]},\n",
       " {('2024-02-29', 201, 66): [UUID('a36afc61-e592-58d7-81a8-10d580f16d67'),\n",
       "   UUID('6ffe89e7-2232-5028-baf7-589b5d6daa72')]},\n",
       " {('2024-03-09', 201, 66): [UUID('8502166e-c8ee-541c-ac38-02f246a6fe5a')]},\n",
       " {('2024-03-01', 201, 66): [UUID('8903d9d2-0ff2-5d7f-aa04-c222509ee181')]},\n",
       " {('2024-03-08', 201, 66): [UUID('0e612f8f-9c06-51f0-bc8f-06638dcb5ad2'),\n",
       "   UUID('9a066c66-67cc-55e4-9d2b-c8993c19578c')]},\n",
       " {('2024-03-16', 201, 66): [UUID('52cac969-38b0-5fb4-8455-6da8dd1f8089'),\n",
       "   UUID('2b1ffbd3-3e4a-585e-bc6b-eca2cb965f94')]},\n",
       " {('2024-03-25', 201, 66): [UUID('0d3a1d1d-9935-5629-970f-9c3f04c45f48')]},\n",
       " {('2024-01-11', 199, 67): [UUID('eb5981ab-8338-5737-931c-02fea677f994'),\n",
       "   UUID('7152eed5-8dc0-5fb7-a793-37eea054169d')]},\n",
       " {('2024-01-27', 199, 67): [UUID('7680033a-c8e9-5eda-8f0a-3e40f3bd2e8f')]},\n",
       " {('2024-02-03', 199, 67): [UUID('868a29e0-0a2c-516d-a92a-34049853cf9f'),\n",
       "   UUID('e98a0f0c-8ed3-5352-9b9a-648ebcd9e08e')]},\n",
       " {('2024-02-04', 199, 67): [UUID('cb9c0ec1-b04a-5548-8a4d-d49660c65058')]},\n",
       " {('2024-01-16', 199, 67): [UUID('0285b297-d8ee-5b5b-9255-38829f27d8db')]},\n",
       " {('2024-02-11', 199, 67): [UUID('d02cc465-c9db-513c-a4fe-9834cae77613'),\n",
       "   UUID('de797454-6372-5c5d-81ef-093106de8aaf')]},\n",
       " {('2024-01-26', 199, 67): [UUID('de21b012-4dc5-565f-aa3b-6a339b2b3f57'),\n",
       "   UUID('7d879b95-3c50-5193-9e80-a23f7bc09024')]},\n",
       " {('2024-01-18', 199, 67): [UUID('296a9651-f621-5c73-a454-243ece8260a0'),\n",
       "   UUID('06bd1105-6fa1-5380-9b0f-a8dbdda2ce25')]},\n",
       " {('2024-01-19', 199, 67): [UUID('b82ae9a4-6d9c-50f5-af4f-ca6f681c81ba')]},\n",
       " {('2024-02-27', 199, 67): [UUID('f53ec1bf-43c2-53f1-9c3f-397bfe448dcf'),\n",
       "   UUID('bf3c9579-f97b-5c07-ba5f-ba531fcd4197')]},\n",
       " {('2024-02-20', 199, 67): [UUID('cbcbb784-ccb0-59c8-82e4-c1dbf9297206')]},\n",
       " {('2024-02-12', 199, 67): [UUID('3e43b26a-7b3a-5971-b1ff-c4e5103138b2')]},\n",
       " {('2024-02-19', 199, 67): [UUID('d11b52b6-ee4a-5c14-af9c-a0c4aee9ba02'),\n",
       "   UUID('5a1c69fd-5dec-554a-894f-e72fade9f74a')]},\n",
       " {('2024-03-07', 199, 67): [UUID('09052c8b-8312-5f51-a887-b3cab9f4bc1d')]},\n",
       " {('2024-02-28', 199, 67): [UUID('ae9856b5-f24b-580e-b120-709612986de9')]},\n",
       " {('2024-03-06', 199, 67): [UUID('b398966e-03fd-5e52-99aa-88ecbe7c0078'),\n",
       "   UUID('37957df7-6b8d-508d-bd3d-18768dce8bfa')]},\n",
       " {('2024-03-14', 199, 67): [UUID('b8d7cb6f-95ab-573b-8a19-555036123a5b'),\n",
       "   UUID('4222e2bb-e0ae-589e-9414-620f57c33617')]},\n",
       " {('2024-03-23', 199, 67): [UUID('eae15c6b-79ae-59b6-b29e-4375f90b9064')]},\n",
       " {('2024-01-11', 200, 67): [UUID('eb5981ab-8338-5737-931c-02fea677f994'),\n",
       "   UUID('7152eed5-8dc0-5fb7-a793-37eea054169d'),\n",
       "   UUID('2c610472-86fa-566e-a646-4c84d9f2a629')]},\n",
       " {('2024-01-27', 200, 67): [UUID('7680033a-c8e9-5eda-8f0a-3e40f3bd2e8f'),\n",
       "   UUID('7dc6a0b1-60fa-5b00-acb7-a054fe093336')]},\n",
       " {('2024-02-04', 200, 67): [UUID('cb9c0ec1-b04a-5548-8a4d-d49660c65058'),\n",
       "   UUID('7b30f956-0e39-5890-87c5-ada45a177dd0')]},\n",
       " {('2024-01-16', 200, 67): [UUID('0285b297-d8ee-5b5b-9255-38829f27d8db')]},\n",
       " {('2024-02-05', 200, 67): [UUID('b5885d5d-a905-58a5-b4e8-14342380a65f')]},\n",
       " {('2024-02-13', 200, 67): [UUID('542be6fe-da93-578d-a720-cdab10358534')]},\n",
       " {('2024-01-19', 200, 67): [UUID('b82ae9a4-6d9c-50f5-af4f-ca6f681c81ba'),\n",
       "   UUID('94755934-57f1-50ba-a962-ea7fefea3dcf')]},\n",
       " {('2024-01-28', 200, 67): [UUID('23cb0166-000f-52df-9a75-490ce26f220c')]},\n",
       " {('2024-01-20', 200, 67): [UUID('2f03d55c-f726-580d-b830-3467907788e9')]},\n",
       " {('2024-02-12', 200, 67): [UUID('3e43b26a-7b3a-5971-b1ff-c4e5103138b2'),\n",
       "   UUID('14096b58-34bf-5595-96ae-6ab6295f20d1')]},\n",
       " {('2024-01-01', 200, 67): [UUID('2620fa95-6755-504a-ab5f-6c4de6b65c0a')]},\n",
       " {('2024-01-06', 200, 67): [UUID('fe38eaed-0f51-506c-9ec7-c11888f9a729')]},\n",
       " {('2024-02-20', 200, 67): [UUID('82c632d4-9c1f-500f-a6f1-17a3cddf70fc'),\n",
       "   UUID('cbcbb784-ccb0-59c8-82e4-c1dbf9297206')]},\n",
       " {('2024-02-21', 200, 67): [UUID('706e276e-2e8c-5117-aa6f-ea8ac1bda71e')]},\n",
       " {('2024-02-29', 200, 67): [UUID('6ffe89e7-2232-5028-baf7-589b5d6daa72')]},\n",
       " {('2024-03-07', 200, 67): [UUID('09052c8b-8312-5f51-a887-b3cab9f4bc1d'),\n",
       "   UUID('8bb39faf-96ff-506a-b9bb-bd023368c2b7')]},\n",
       " {('2024-02-28', 200, 67): [UUID('ae9856b5-f24b-580e-b120-709612986de9'),\n",
       "   UUID('f9f89ffe-da31-5f15-9371-0975ab47cfe2')]},\n",
       " {('2024-03-08', 200, 67): [UUID('0e612f8f-9c06-51f0-bc8f-06638dcb5ad2')]},\n",
       " {('2024-03-16', 200, 67): [UUID('2b1ffbd3-3e4a-585e-bc6b-eca2cb965f94')]},\n",
       " {('2024-03-23', 200, 67): [UUID('eae15c6b-79ae-59b6-b29e-4375f90b9064'),\n",
       "   UUID('328854c5-b17e-5e5b-adcd-ec0b32e92e1b')]},\n",
       " {('2024-01-11', 201, 67): [UUID('eb5981ab-8338-5737-931c-02fea677f994')]},\n",
       " {('2024-02-05', 201, 67): [UUID('b5885d5d-a905-58a5-b4e8-14342380a65f')]}]"
      ]
     },
     "execution_count": 15,
     "metadata": {},
     "output_type": "execute_result"
    }
   ],
   "source": [
    "# View the first 100 tasks\n",
    "tasks[:100]"
   ]
  },
  {
   "cell_type": "code",
   "execution_count": null,
   "id": "c4946872-c178-4663-8b00-f76135f58958",
   "metadata": {},
   "outputs": [],
   "source": []
  }
 ],
 "metadata": {
  "kernelspec": {
   "display_name": "Python 3 (ipykernel)",
   "language": "python",
   "name": "python3"
  },
  "language_info": {
   "codemirror_mode": {
    "name": "ipython",
    "version": 3
   },
   "file_extension": ".py",
   "mimetype": "text/x-python",
   "name": "python",
   "nbconvert_exporter": "python",
   "pygments_lexer": "ipython3",
   "version": "3.10.12"
  }
 },
 "nbformat": 4,
 "nbformat_minor": 5
}
