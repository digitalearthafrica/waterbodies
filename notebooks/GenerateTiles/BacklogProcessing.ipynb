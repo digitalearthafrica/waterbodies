{
 "cells": [
  {
   "cell_type": "code",
   "execution_count": 1,
   "id": "30f899b0-02a9-4454-9e9e-9c40fe5423fa",
   "metadata": {},
   "outputs": [],
   "source": [
    "import logging\n",
    "\n",
    "from datacube import Datacube\n",
    "from odc.stats.model import DateTimeRange\n",
    "from waterbodies.io import check_directory_exists, find_geotiff_files\n",
    "from waterbodies.logs import logging_setup\n",
    "from waterbodies.text import parse_tile_id_from_filename\n",
    "from waterbodies.hopper import create_tasks_from_scenes"
   ]
  },
  {
   "cell_type": "code",
   "execution_count": 2,
   "id": "f6ba83a6-f2bd-47e6-9f02-8aa361b3e05f",
   "metadata": {},
   "outputs": [
    {
     "data": {
      "text/plain": [
       "True"
      ]
     },
     "execution_count": 2,
     "metadata": {},
     "output_type": "execute_result"
    }
   ],
   "source": [
    "from dotenv import load_dotenv\n",
    "# Path to env file containing the waterbodies database credentials\n",
    "# Only necessary on the Sandbox.\n",
    "env_path = \"/home/jovyan/.env\"\n",
    "load_dotenv(env_path)"
   ]
  },
  {
   "cell_type": "code",
   "execution_count": 3,
   "id": "58450a47-5c9c-474c-acee-15743b46b96c",
   "metadata": {},
   "outputs": [],
   "source": [
    "verbose =1\n",
    "run_type = \"backlog-processing\"\n",
    "temporal_range = \"2014--P5Y\"\n",
    "historical_extent_rasters_directory = \"s3://deafrica-services/waterbodies/v0.0.2/conflux/historical_extent_rasters/\""
   ]
  },
  {
   "cell_type": "code",
   "execution_count": 4,
   "id": "9f520655-8531-4dc1-8e0e-fdde4cad9e3a",
   "metadata": {},
   "outputs": [],
   "source": [
    "# Set up logging.\n",
    "logging_setup(verbose)\n",
    "_log = logging.getLogger(__name__)"
   ]
  },
  {
   "cell_type": "code",
   "execution_count": 5,
   "id": "ee21ed18-a651-4f1f-b798-9eba445e1fc1",
   "metadata": {},
   "outputs": [],
   "source": [
    "# Parse the temporal range\n",
    "if run_type != \"regular-update\" :\n",
    "    temporal_range_ = DateTimeRange(temporal_range)"
   ]
  },
  {
   "cell_type": "code",
   "execution_count": 6,
   "id": "9a8b2648-aba7-4d60-9d0a-c4b044b4e133",
   "metadata": {},
   "outputs": [],
   "source": [
    "if not check_directory_exists(path=historical_extent_rasters_directory):\n",
    "    e = FileNotFoundError(f\"Directory {historical_extent_rasters_directory} does not exist!\")\n",
    "    _log.error(e)\n",
    "    raise e\n",
    "else:\n",
    "    historical_extent_rasters = find_geotiff_files(directory_path=historical_extent_rasters_directory)"
   ]
  },
  {
   "cell_type": "code",
   "execution_count": 7,
   "id": "bd4e3a35-885b-487c-a154-ef106659d25e",
   "metadata": {},
   "outputs": [],
   "source": [
    "# Get the tile_ids for tiles that actually contain waterbodies.\n",
    "tile_ids_of_interest = [\n",
    "    parse_tile_id_from_filename(file_path=raster_file)\n",
    "    for raster_file in historical_extent_rasters\n",
    "]"
   ]
  },
  {
   "cell_type": "code",
   "execution_count": 8,
   "id": "8633d47a-bf7f-446c-8c03-32b8b048a5e8",
   "metadata": {},
   "outputs": [],
   "source": [
    "product = \"wofs_ls\""
   ]
  },
  {
   "cell_type": "code",
   "execution_count": 9,
   "id": "289e47fe-c418-468c-a22a-e6b79bb82eaa",
   "metadata": {},
   "outputs": [],
   "source": [
    "# Connect to the datacube\n",
    "dc = Datacube(app=\"backlog-processing\")"
   ]
  },
  {
   "cell_type": "code",
   "execution_count": 10,
   "id": "e0a672ce-6934-4c0d-b8ad-9e644946e051",
   "metadata": {},
   "outputs": [
    {
     "data": {
      "text/plain": [
       "{'product': 'wofs_ls',\n",
       " 'time': (datetime.datetime(2014, 1, 1, 0, 0),\n",
       "  datetime.datetime(2018, 12, 31, 23, 59, 59, 999999))}"
      ]
     },
     "execution_count": 10,
     "metadata": {},
     "output_type": "execute_result"
    }
   ],
   "source": [
    "# Define the datacube query \n",
    "dc_query = dict(product=product, time=(temporal_range_.start, temporal_range_.end))\n",
    "dc_query"
   ]
  },
  {
   "cell_type": "code",
   "execution_count": 11,
   "id": "46faf08f-83d8-404f-a6b9-9402bf045d56",
   "metadata": {},
   "outputs": [
    {
     "name": "stdout",
     "output_type": "stream",
     "text": [
      "CPU times: user 29.8 s, sys: 3.48 s, total: 33.2 s\n",
      "Wall time: 1min 52s\n"
     ]
    }
   ],
   "source": [
    "%%time\n",
    "# Query the datacube for all wofs_ls datasets whose acquisition times fall within\n",
    "# the temporal range specified.\n",
    "scenes = dc.find_datasets(**dc_query)"
   ]
  },
  {
   "cell_type": "code",
   "execution_count": 12,
   "id": "7e333906-9abf-4b03-8239-5a00f493e2cb",
   "metadata": {},
   "outputs": [
    {
     "name": "stderr",
     "output_type": "stream",
     "text": [
      "Processing  298,847 scenes: 100%|██████████| 298847/298847 [06:00<00:00, 829.88it/s]"
     ]
    },
    {
     "name": "stdout",
     "output_type": "stream",
     "text": [
      "[2024-03-28 18:44:00,634] {hopper.py:148} INFO - Filter the 4649 cells to keep only the cells containing the 2783 tile ids of interest.\n"
     ]
    },
    {
     "name": "stderr",
     "output_type": "stream",
     "text": [
      "\n"
     ]
    },
    {
     "name": "stdout",
     "output_type": "stream",
     "text": [
      "[2024-03-28 18:44:00,810] {hopper.py:155} INFO - Total number of cells after filtering: 2783\n",
      "[2024-03-28 18:44:00,811] {hopper.py:159} INFO - For each cell group the datasets by solar day\n",
      "[2024-03-28 18:44:12,377] {hopper.py:172} INFO - Total of 268,917 unique dataset UUIDs.\n",
      "[2024-03-28 18:44:12,378] {hopper.py:173} INFO - Total number of tasks: 1157396\n",
      "CPU times: user 6min 11s, sys: 2.05 s, total: 6min 13s\n",
      "Wall time: 6min 11s\n"
     ]
    }
   ],
   "source": [
    "%%time\n",
    "tasks = create_tasks_from_scenes(scenes=scenes, tile_ids_of_interest=tile_ids_of_interest)"
   ]
  },
  {
   "cell_type": "code",
   "execution_count": 13,
   "id": "0b6bd131-b097-49b4-bc0b-2a948baf4b65",
   "metadata": {},
   "outputs": [
    {
     "data": {
      "text/plain": [
       "[{('2016-04-05', 199, 34): [UUID('9b916e21-2229-5121-8333-0a8b3736d440')]},\n",
       " {('2018-08-01', 199, 34): [UUID('90805fa9-01f2-5054-85b2-98c245bba569')]},\n",
       " {('2018-07-16', 199, 34): [UUID('3fefcaf4-e8b8-5edc-a059-9938143d794a')]},\n",
       " {('2016-04-14', 199, 34): [UUID('93d84752-2d04-58ce-9532-547ed6826d23'),\n",
       "   UUID('addec823-2fc6-5af7-90ec-9385a8240018')]},\n",
       " {('2017-09-08', 199, 34): [UUID('03403972-01b0-5225-a8c6-a72692d3a092'),\n",
       "   UUID('1f3b6901-9068-5022-8400-bbe6c72c5aed')]},\n",
       " {('2016-06-17', 199, 34): [UUID('d5b2ef55-d110-525b-8c25-8fad0f36ebba'),\n",
       "   UUID('72086146-58c7-586b-a0b2-9ea0273b2c3a')]},\n",
       " {('2016-05-16', 199, 34): [UUID('3d6eb622-0102-5a75-8aa9-50e5e7069063'),\n",
       "   UUID('ec9af1b2-4d15-50f3-a6fb-ee26ce1dbbe9')]},\n",
       " {('2016-02-26', 199, 34): [UUID('4374a999-9e4b-5841-99bd-ad9efe4a7193'),\n",
       "   UUID('29d90677-d278-5fa8-a630-a7b61582dbb4')]},\n",
       " {('2018-10-13', 199, 34): [UUID('2fafdd62-9240-5f22-92b7-89e37190709b'),\n",
       "   UUID('0711eb91-815d-56c8-96b5-ad10156cf532')]},\n",
       " {('2014-06-28', 199, 34): [UUID('2055609a-f7c0-5b7c-b3dd-40d9ea92d3b7'),\n",
       "   UUID('0566baf5-81f9-5a69-bdf6-e48d202344ea')]},\n",
       " {('2018-04-04', 199, 34): [UUID('e5f31b02-5ad9-5435-b90c-b1f4264847fa'),\n",
       "   UUID('1934c148-71c2-5f0f-a549-b351eb26f9c7')]},\n",
       " {('2018-05-06', 199, 34): [UUID('93efcd47-0dd8-5d46-b3b5-ec81d15e2c67'),\n",
       "   UUID('bf953a9a-684b-5e14-a1fa-5fda35b5bf12')]},\n",
       " {('2016-06-24', 199, 34): [UUID('00982a76-243e-57a4-9669-b820df28139b')]},\n",
       " {('2018-07-25', 199, 34): [UUID('fe0edf14-17c8-58a4-92d2-d2fdfc77df80'),\n",
       "   UUID('4f33f1a8-a3ba-57e7-b976-ffcb6f2f6cbd')]},\n",
       " {('2018-11-14', 199, 34): [UUID('06488978-cf9d-563b-ac4c-8540a1cb728b'),\n",
       "   UUID('302e76e5-35c7-5127-b8dd-042bdc9b660c')]},\n",
       " {('2017-04-01', 199, 34): [UUID('a5968bd8-5259-5959-9446-a5faf8115029'),\n",
       "   UUID('0f683db4-8495-5a81-bc10-bf6a6e9ef1ab')]},\n",
       " {('2017-04-17', 199, 34): [UUID('84bae2b0-dfad-52e1-be87-e1b92cc83fe2'),\n",
       "   UUID('fa8cdb1e-f48b-5baa-ae5f-30dd23603323')]},\n",
       " {('2014-10-18', 199, 34): [UUID('f2733225-ce9a-56ac-907e-297cff31443c'),\n",
       "   UUID('e8304c7c-2d94-5a09-8aed-1d0c36f71208')]},\n",
       " {('2017-05-03', 199, 34): [UUID('8dedf4bf-85c3-54c4-8af4-3a853a8a14e3'),\n",
       "   UUID('b8f3bd38-a36e-5ba3-b4f7-0e877bc78d83')]},\n",
       " {('2015-01-22', 199, 34): [UUID('492e754c-7ab2-52bc-92d3-7f81575dabc0'),\n",
       "   UUID('63591c40-ee7e-535b-b78e-dcc4d32a77de')]},\n",
       " {('2017-03-16', 199, 34): [UUID('93390dbf-2347-50c8-b57d-5591fb21d021'),\n",
       "   UUID('7ffafefd-14cb-5bee-891b-c3fb8fd6eb83')]},\n",
       " {('2017-04-24', 199, 34): [UUID('ce27817c-c21f-537b-a588-0a3c95e6c5c1')]},\n",
       " {('2018-03-03', 199, 34): [UUID('91c6b8ec-5830-56c9-a5f7-1d21dc11f6fb'),\n",
       "   UUID('dd2b051c-022e-5032-9e40-ca0701998b49')]},\n",
       " {('2017-05-10', 199, 34): [UUID('16f3fea0-d8f8-5268-bc7d-6a3e6cc33806')]},\n",
       " {('2018-07-09', 199, 34): [UUID('6c131265-9006-5f5e-b8b4-71d02f8ed458'),\n",
       "   UUID('1b22729b-a30a-57c3-a02e-390c93954c14')]},\n",
       " {('2018-11-21', 199, 34): [UUID('8e26f7db-8f86-57a4-a16d-2972f8852f1a')]},\n",
       " {('2018-06-07', 199, 34): [UUID('dfd862f1-53b8-54f7-b461-a31d4a2c4b69'),\n",
       "   UUID('07299ef6-593e-55ce-b4ea-ee5b09eeb0db')]},\n",
       " {('2015-05-21', 199, 34): [UUID('c57f9bde-bf6a-50d2-8c45-98f08f132f24')]},\n",
       " {('2015-04-19', 199, 34): [UUID('eae135f9-b912-58e9-960e-a1212dcd9003')]},\n",
       " {('2018-09-11', 199, 34): [UUID('dfac155b-2c79-51e3-b4e9-8175308959e8'),\n",
       "   UUID('a9a26439-9f94-53c9-982d-839094b97ea1')]},\n",
       " {('2015-04-12', 199, 34): [UUID('ea91b4e8-04bb-5869-9aec-d6d129fd7b85'),\n",
       "   UUID('bbef2068-9433-5dfc-acfc-ee9bff81eb13')]},\n",
       " {('2018-08-26', 199, 34): [UUID('a86b1494-85e7-5b5d-b765-934d972741ea'),\n",
       "   UUID('ef0f220a-aadf-5b9d-845f-119055944986')]},\n",
       " {('2018-09-27', 199, 34): [UUID('71452e6c-4fbf-5319-8b28-16541dfc745d'),\n",
       "   UUID('0b0e8b41-a444-5fe6-b8c6-458b83139068')]},\n",
       " {('2018-10-04', 199, 34): [UUID('21f2aca8-dd8f-524d-a446-29759ad15db0')]},\n",
       " {('2018-06-14', 199, 34): [UUID('f07396e0-3e45-5f29-8788-266d74820026')]},\n",
       " {('2018-12-16', 199, 34): [UUID('2a563657-1a1b-517a-9c2d-49f5bda3a959'),\n",
       "   UUID('c70f59e3-6247-5f46-99d9-e295bf5725e8')]},\n",
       " {('2014-09-16', 199, 34): [UUID('241bb59e-eb95-5d22-b4a1-2f6bf0e100b4'),\n",
       "   UUID('7f4dd36f-48c9-5fb8-a01d-558124dd61ba')]},\n",
       " {('2016-10-23', 199, 34): [UUID('9ad51ad5-f2da-5756-966f-a2643c4d3109'),\n",
       "   UUID('fa05bc9b-4143-5f1e-ad20-21e6da5ce2b3')]},\n",
       " {('2017-07-06', 199, 34): [UUID('2e4e5fab-6543-5e75-9360-afcac81d254c'),\n",
       "   UUID('dce4350a-216a-5f61-9ab2-80c6d56242c7')]},\n",
       " {('2017-05-19', 199, 34): [UUID('39bc9a65-2a4e-5d7f-8ed1-e52c3be29bb1'),\n",
       "   UUID('85bfb6ab-dae6-5a8f-aff6-dd6ccea39974')]},\n",
       " {('2018-08-10', 199, 34): [UUID('85f747e3-41a6-57eb-be1b-86aa0ebb82d8'),\n",
       "   UUID('1a30ffe2-fe0f-5b50-a721-ccc6a29b40ec')]},\n",
       " {('2017-06-20', 199, 34): [UUID('4dcfad14-125d-568d-8193-eeff51c44e92'),\n",
       "   UUID('5074bce4-1f1e-532d-b651-ec171b0d94b6')]},\n",
       " {('2017-10-01', 199, 34): [UUID('fb184e6d-e547-5ea4-b8ef-d6b7da137cf8')]},\n",
       " {('2017-08-23', 199, 34): [UUID('06068877-9a02-5341-ac3f-512161862859'),\n",
       "   UUID('d3ee7dcd-9869-5699-a889-d716171b4719')]},\n",
       " {('2018-02-15', 199, 34): [UUID('a3b65c2f-67cd-534d-a650-20422b707f18'),\n",
       "   UUID('c489187c-64da-55fd-b178-0591caf770f6')]},\n",
       " {('2014-02-04', 199, 34): [UUID('bd26d45e-fc55-56b1-ae5b-79d9c70cd54e'),\n",
       "   UUID('12a75380-9834-5fec-bfd8-424729be7921')]},\n",
       " {('2018-01-14', 199, 34): [UUID('5a30cc1a-b90d-5dcc-bc28-3ac7f15c4ec5'),\n",
       "   UUID('8088fa89-1ee3-560f-a27f-a7ca566c3aba')]},\n",
       " {('2016-10-07', 199, 34): [UUID('72f82780-e665-5a4e-b38c-5025bf94b7db'),\n",
       "   UUID('c7e92aee-033b-5baa-865c-7ac693bfa621')]},\n",
       " {('2017-06-04', 199, 34): [UUID('d773621b-962b-54d1-b0e7-5671e8750484'),\n",
       "   UUID('ba2732c2-0b18-58cb-9a92-a8eaa9c95ad7')]},\n",
       " {('2014-01-19', 199, 34): [UUID('4f192505-81aa-526d-9109-fdc0e3f30e0c'),\n",
       "   UUID('6dce6df6-aaf3-5d4a-a9fd-a6410382c0b8')]},\n",
       " {('2017-08-07', 199, 34): [UUID('bbb5543a-f4dc-54f8-8823-8b3082428259'),\n",
       "   UUID('435c6c3a-0670-53c3-9a8c-103af8a268a6')]},\n",
       " {('2016-10-30', 199, 34): [UUID('1e9a95fc-348e-5897-a0c9-eb8f26f15833')]},\n",
       " {('2014-03-08', 199, 34): [UUID('251d0b35-e897-51c6-b011-e5be3e02858c'),\n",
       "   UUID('f3f5a05e-522b-565d-987b-53625f871106')]},\n",
       " {('2016-03-29', 199, 34): [UUID('c2d64734-e196-5744-9dfd-4fbb0db24dc4'),\n",
       "   UUID('f1daf381-31b0-5b5a-b118-17b8fe85b930')]},\n",
       " {('2017-06-11', 199, 34): [UUID('aacb50ee-4c73-5473-9e9c-8add2e73048c')]},\n",
       " {('2016-03-13', 199, 34): [UUID('0c254b11-aced-5f1d-8c21-f6417ee5ce29'),\n",
       "   UUID('ff43d5e2-d3ce-59fb-8bc2-72ffdf7bb83c')]},\n",
       " {('2015-06-15', 199, 34): [UUID('b868f052-1531-5f3f-aeee-a274f30d1d18'),\n",
       "   UUID('7b054b1e-5395-54f0-95cf-0ca60cfcc3bc')]},\n",
       " {('2016-02-01', 199, 34): [UUID('403e015b-d2e0-5602-ab20-6b0530b2f5b5')]},\n",
       " {('2018-01-30', 199, 34): [UUID('fab22b66-599e-5775-b86e-4455f9a1ec82'),\n",
       "   UUID('3caef2ca-8e56-5f9d-b8fc-e7fa1bf6aa01')]},\n",
       " {('2016-01-16', 199, 34): [UUID('0ff3b4be-fce1-53c4-841e-09124bd9f889')]},\n",
       " {('2016-03-04', 199, 34): [UUID('bf4adb0c-16dd-5e92-a221-978bc99c6442')]},\n",
       " {('2016-01-25', 199, 34): [UUID('24079b8a-7fa1-591f-ab27-dac235322122'),\n",
       "   UUID('e4207fd8-eed2-53c9-a2f8-15e074d7f215')]},\n",
       " {('2017-11-11', 199, 34): [UUID('5ab09591-5f5c-5f4d-88f0-0bfa34c885e3'),\n",
       "   UUID('72924fd0-d1e5-5d0d-be07-0a755c2c1606')]},\n",
       " {('2017-12-29', 199, 34): [UUID('8486f736-b886-5af6-851f-b040a2961d04'),\n",
       "   UUID('30a911fa-eee6-5c29-b4b8-c5b51bdad7ac')]},\n",
       " {('2016-08-04', 199, 34): [UUID('a1bf73ef-047c-58bc-b895-d5e39391d6a5'),\n",
       "   UUID('9261fd5d-3759-5f7b-aa94-e49fdadcd3ad')]},\n",
       " {('2017-11-02', 199, 34): [UUID('2ec3c047-5d27-5fe0-92cc-cc8e7b608b66')]},\n",
       " {('2017-12-13', 199, 34): [UUID('a4821921-0c9f-5ff7-91e6-f1dd761b1dfd'),\n",
       "   UUID('59aad8a2-8087-57bb-8eec-ee24c0b0dced')]},\n",
       " {('2016-09-28', 199, 34): [UUID('66eb5201-7623-5048-afd4-71bdb1ba7dd1')]},\n",
       " {('2016-06-08', 199, 34): [UUID('a90c5b97-a2fa-58dd-a43e-dc0c69cd5d00')]},\n",
       " {('2017-12-04', 199, 34): [UUID('b54a702f-22f1-514f-852e-f2f84289f346')]},\n",
       " {('2016-05-23', 199, 34): [UUID('13ce1412-3bef-5639-bc54-869e075325ef')]},\n",
       " {('2016-09-21', 199, 34): [UUID('53a5a5b9-bf22-5d20-a8a6-3d9ec943b8e3'),\n",
       "   UUID('a98de721-5c09-5e8a-8eee-be2346bb5f5a')]},\n",
       " {('2016-07-19', 199, 34): [UUID('b25e2e31-a90c-5d10-9457-3a0e1e9f13f8'),\n",
       "   UUID('932497d0-fbd1-5947-ab77-b6848d0c757a')]},\n",
       " {('2016-12-17', 199, 34): [UUID('213ccdb0-9b38-55c4-8b95-88b3cc8858d6')]},\n",
       " {('2018-03-19', 199, 34): [UUID('06809318-0e12-5d1e-9097-0933d6e185a8'),\n",
       "   UUID('128faa93-1532-5cab-b440-808a3c9a56da')]},\n",
       " {('2016-06-01', 199, 34): [UUID('a0dbb361-72c2-534d-9020-c0f8285750b2'),\n",
       "   UUID('38062c7c-8263-5da1-8165-4302a2ffae52')]},\n",
       " {('2016-11-08', 199, 34): [UUID('53f6ca26-27c1-5aa6-904a-6880fbc3eb82'),\n",
       "   UUID('4c64dae4-915c-5d92-a641-cc715e0c6231')]},\n",
       " {('2016-12-01', 199, 34): [UUID('f7005839-5639-5fe6-8a54-483a7f24f08d')]},\n",
       " {('2016-12-10', 199, 34): [UUID('8a87b34b-d521-5735-b991-28d54cdbe558'),\n",
       "   UUID('137c7c99-e191-52af-bf19-fdcbda308a0b')]},\n",
       " {('2016-11-15', 199, 34): [UUID('2df39b8c-9400-5a83-8570-a89809156789')]},\n",
       " {('2016-08-11', 199, 34): [UUID('3bf59011-f250-57c0-8c6c-20756b1cc766')]},\n",
       " {('2017-01-11', 199, 34): [UUID('23a0df75-55bf-53af-a3b5-07f9192f1321'),\n",
       "   UUID('b79fefb3-5cf9-5f7b-b223-5c0cc2b47673')]},\n",
       " {('2017-02-12', 199, 34): [UUID('25b17053-3e9c-5887-961e-16623f59da8d'),\n",
       "   UUID('91ff746f-505f-5f92-af22-734a6e34e5ad')]},\n",
       " {('2017-02-19', 199, 34): [UUID('251375d5-3a5a-5ff4-a123-292937dcacc1')]},\n",
       " {('2017-01-18', 199, 34): [UUID('15fa12c9-c1d4-5226-809f-50e207e24bc7')]},\n",
       " {('2017-01-27', 199, 34): [UUID('170d078f-a1ca-5a08-96e9-bc402a49085d'),\n",
       "   UUID('4236d144-f805-5282-bd58-20add2e8d743')]},\n",
       " {('2014-10-02', 199, 34): [UUID('58e7f84c-adb1-52da-adf6-91bcdfdb4437'),\n",
       "   UUID('5a48542f-5b23-5623-b3e7-ca79e920ae3c')]},\n",
       " {('2015-01-06', 199, 34): [UUID('f42fcb8b-4940-596c-a757-131590bac6a3'),\n",
       "   UUID('198d41b9-e8b6-5927-98da-2e3b1fbe8a5c')]},\n",
       " {('2014-11-26', 199, 34): [UUID('150cb315-f61b-520c-a85e-c5015886b622')]},\n",
       " {('2014-11-03', 199, 34): [UUID('11fa5227-fd41-5a5c-a885-d3ed6363f233')]},\n",
       " {('2017-09-24', 199, 34): [UUID('6cd80b96-89dc-5d2f-bba4-da1c9495d3bb'),\n",
       "   UUID('2581ee30-4f96-5e95-a920-a696ba757b88')]},\n",
       " {('2014-08-06', 199, 34): [UUID('e19c1ea6-b6db-5f23-b353-e9ae1b6180bb')]},\n",
       " {('2014-12-12', 199, 34): [UUID('6f5f443c-53ed-5346-9b78-518630d5852f')]},\n",
       " {('2015-04-28', 199, 34): [UUID('b726a2ff-a968-5806-bdb0-1432578b398b'),\n",
       "   UUID('23e484b4-70a0-51bc-82e6-75b10a5ad9a3')]},\n",
       " {('2015-02-07', 199, 34): [UUID('cf449ce3-2eda-5a5b-a5e6-0f2c2d35c17b'),\n",
       "   UUID('77f52aee-2d8f-5183-95df-570308bdc07f')]},\n",
       " {('2015-11-13', 199, 34): [UUID('5490f012-779a-50f0-be3a-5af829e499bc')]},\n",
       " {('2015-07-01', 199, 34): [UUID('dc03fa65-0e01-5854-ad0d-3c9c21313c98'),\n",
       "   UUID('b033f5c9-3da8-5fed-8bb6-c5f6403bc435')]},\n",
       " {('2015-11-06', 199, 34): [UUID('990fd685-be9b-5c4c-a0fb-3a8d80efb70a'),\n",
       "   UUID('adc55bd2-bbe8-571c-b233-a9edf20fbbb1')]},\n",
       " {('2015-10-05', 199, 34): [UUID('9a08a602-beca-52f3-ac93-d2756f43634f'),\n",
       "   UUID('df5571bd-9666-5426-8a34-0764c6311107')]},\n",
       " {('2015-08-25', 199, 34): [UUID('8dc65023-8f48-5f01-ba66-38b131492f17')]}]"
      ]
     },
     "execution_count": 13,
     "metadata": {},
     "output_type": "execute_result"
    }
   ],
   "source": [
    "# View the first 100 tasks\n",
    "tasks[:100]"
   ]
  },
  {
   "cell_type": "code",
   "execution_count": null,
   "id": "c4946872-c178-4663-8b00-f76135f58958",
   "metadata": {},
   "outputs": [],
   "source": []
  }
 ],
 "metadata": {
  "kernelspec": {
   "display_name": "Python 3 (ipykernel)",
   "language": "python",
   "name": "python3"
  },
  "language_info": {
   "codemirror_mode": {
    "name": "ipython",
    "version": 3
   },
   "file_extension": ".py",
   "mimetype": "text/x-python",
   "name": "python",
   "nbconvert_exporter": "python",
   "pygments_lexer": "ipython3",
   "version": "3.10.12"
  }
 },
 "nbformat": 4,
 "nbformat_minor": 5
}
