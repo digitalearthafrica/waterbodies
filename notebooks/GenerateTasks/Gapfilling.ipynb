{
 "cells": [
  {
   "cell_type": "code",
   "execution_count": null,
   "id": "f6ba83a6-f2bd-47e6-9f02-8aa361b3e05f",
   "metadata": {},
   "outputs": [],
   "source": [
    "import os \n",
    "\n",
    "del os.environ[\"AWS_ACCESS_KEY_ID\"]\n",
    "del os.environ[\"AWS_SECRET_ACCESS_KEY\"]\n",
    "\n",
    "from dotenv import load_dotenv\n",
    "# Path to env file containing the waterbodies database credentials\n",
    "# Only necessary on the Sandbox.\n",
    "env_path = \"/home/jovyan/.env\"\n",
    "load_dotenv(env_path)"
   ]
  },
  {
   "cell_type": "code",
   "execution_count": null,
   "id": "30f899b0-02a9-4454-9e9e-9c40fe5423fa",
   "metadata": {},
   "outputs": [],
   "source": [
    "import logging\n",
    "from odc.geo.geobox import GeoBox\n",
    "from tqdm import tqdm\n",
    "from datacube import Datacube\n",
    "from odc.stats.model import DateTimeRange\n",
    "from waterbodies.io import check_directory_exists, find_geotiff_files\n",
    "from waterbodies.logs import logging_setup\n",
    "from waterbodies.text import parse_tile_id_from_filename\n",
    "from waterbodies.hopper import create_tasks_from_scenes, GRIDSPEC"
   ]
  },
  {
   "cell_type": "code",
   "execution_count": null,
   "id": "58450a47-5c9c-474c-acee-15743b46b96c",
   "metadata": {},
   "outputs": [],
   "source": [
    "verbose =1\n",
    "run_type = \"gap-filling\"\n",
    "temporal_range = \"2024-02--P1M\"\n",
    "historical_extent_rasters_directory = \"s3://deafrica-services/waterbodies/v0.0.2/conflux/historical_extent_rasters/\""
   ]
  },
  {
   "cell_type": "code",
   "execution_count": null,
   "id": "9f520655-8531-4dc1-8e0e-fdde4cad9e3a",
   "metadata": {},
   "outputs": [],
   "source": [
    "# Set up logging.\n",
    "logging_setup(verbose)\n",
    "_log = logging.getLogger(__name__)"
   ]
  },
  {
   "cell_type": "code",
   "execution_count": null,
   "id": "ee21ed18-a651-4f1f-b798-9eba445e1fc1",
   "metadata": {},
   "outputs": [],
   "source": [
    "# Parse the temporal range\n",
    "if run_type != \"regular-update\" :\n",
    "    temporal_range_ = DateTimeRange(temporal_range)"
   ]
  },
  {
   "cell_type": "code",
   "execution_count": null,
   "id": "9a8b2648-aba7-4d60-9d0a-c4b044b4e133",
   "metadata": {},
   "outputs": [],
   "source": [
    "if not check_directory_exists(path=historical_extent_rasters_directory):\n",
    "    e = FileNotFoundError(f\"Directory {historical_extent_rasters_directory} does not exist!\")\n",
    "    _log.error(e)\n",
    "    raise e\n",
    "else:\n",
    "    historical_extent_rasters = find_geotiff_files(directory_path=historical_extent_rasters_directory)"
   ]
  },
  {
   "cell_type": "code",
   "execution_count": null,
   "id": "bd4e3a35-885b-487c-a154-ef106659d25e",
   "metadata": {},
   "outputs": [],
   "source": [
    "# Get the tile_ids for tiles that actually contain waterbodies.\n",
    "tile_ids_of_interest = [\n",
    "    parse_tile_id_from_filename(file_path=raster_file)\n",
    "    for raster_file in historical_extent_rasters\n",
    "]"
   ]
  },
  {
   "cell_type": "code",
   "execution_count": null,
   "id": "97f31425-7311-4970-9c87-1d92018abcfc",
   "metadata": {},
   "outputs": [],
   "source": [
    "product = \"wofs_ls\""
   ]
  },
  {
   "cell_type": "code",
   "execution_count": null,
   "id": "289e47fe-c418-468c-a22a-e6b79bb82eaa",
   "metadata": {},
   "outputs": [],
   "source": [
    "# Connect to the datacube\n",
    "dc = Datacube(app=\"gap-filling\")"
   ]
  },
  {
   "cell_type": "code",
   "execution_count": null,
   "id": "e0a672ce-6934-4c0d-b8ad-9e644946e051",
   "metadata": {},
   "outputs": [],
   "source": [
    "# The difference between gap-filling and the other steps is here\n",
    "# we are searching for datasets by their creation date (`creation_time`),\n",
    "# not their acquisition date (`time`).\n",
    "dc_query = dict(product=product, creation_time=(temporal_range_.start, temporal_range_.end))\n",
    "dc_query"
   ]
  },
  {
   "cell_type": "code",
   "execution_count": null,
   "id": "46faf08f-83d8-404f-a6b9-9402bf045d56",
   "metadata": {},
   "outputs": [],
   "source": [
    "%%time\n",
    "# Search the datacube for all wofs_ls datasets whose creation times (not acquisition time)\n",
    "# fall within the temporal range specified.\n",
    "# E.g  a dataset can have an aquisition date of 2023-12-15 but have been added to the\n",
    "# datacube in 2024-02, which will be its creation date.\n",
    "scenes = dc.find_datasets(**dc_query)"
   ]
  },
  {
   "cell_type": "code",
   "execution_count": null,
   "id": "7e333906-9abf-4b03-8239-5a00f493e2cb",
   "metadata": {},
   "outputs": [],
   "source": [
    "%%time\n",
    "# Identify the tasks / waterbody observations affected.\n",
    "affected_tasks = create_tasks_from_scenes(scenes=scenes, tile_ids_of_interest=tile_ids_of_interest)"
   ]
  },
  {
   "cell_type": "code",
   "execution_count": null,
   "id": "e3505462-1986-4b4f-bdbd-0f57fbb1eaea",
   "metadata": {},
   "outputs": [],
   "source": [
    "# Get the ids for the affected waterbody observations.\n",
    "task_ids = [\n",
    "            task_id for task in affected_tasks for task_id, task_dataset_ids in task.items()\n",
    "        ]"
   ]
  },
  {
   "cell_type": "code",
   "execution_count": null,
   "id": "12009365-027e-4968-a499-bfa8e2a74e07",
   "metadata": {},
   "outputs": [],
   "source": [
    "# For each task id add an empty list as a place holder for the task datasets ids.\n",
    "# This will be filled in the drill function which is easier to do in parallel than\n",
    "# looping over each task to update the required task dataset ids here.\n",
    "tasks = [{task_id: []} for task_id in task_ids]"
   ]
  },
  {
   "cell_type": "code",
   "execution_count": null,
   "id": "c4946872-c178-4663-8b00-f76135f58958",
   "metadata": {},
   "outputs": [],
   "source": [
    "# View the first 100 tasks\n",
    "tasks[:100]"
   ]
  }
 ],
 "metadata": {
  "kernelspec": {
   "display_name": "Python 3 (ipykernel)",
   "language": "python",
   "name": "python3"
  },
  "language_info": {
   "codemirror_mode": {
    "name": "ipython",
    "version": 3
   },
   "file_extension": ".py",
   "mimetype": "text/x-python",
   "name": "python",
   "nbconvert_exporter": "python",
   "pygments_lexer": "ipython3",
   "version": "3.10.12"
  }
 },
 "nbformat": 4,
 "nbformat_minor": 5
}
