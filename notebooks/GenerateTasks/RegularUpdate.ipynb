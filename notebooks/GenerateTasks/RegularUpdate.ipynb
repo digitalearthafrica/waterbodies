{
 "cells": [
  {
   "cell_type": "code",
   "execution_count": null,
   "id": "f6ba83a6-f2bd-47e6-9f02-8aa361b3e05f",
   "metadata": {},
   "outputs": [],
   "source": [
    "import os \n",
    "\n",
    "del os.environ[\"AWS_ACCESS_KEY_ID\"]\n",
    "del os.environ[\"AWS_SECRET_ACCESS_KEY\"]\n",
    "\n",
    "from dotenv import load_dotenv\n",
    "# Path to env file containing the waterbodies database credentials\n",
    "# Only necessary on the Sandbox.\n",
    "env_path = \"/home/jovyan/.env\"\n",
    "load_dotenv(env_path)"
   ]
  },
  {
   "cell_type": "code",
   "execution_count": null,
   "id": "30f899b0-02a9-4454-9e9e-9c40fe5423fa",
   "metadata": {},
   "outputs": [],
   "source": [
    "import logging\n",
    "from datetime import datetime\n",
    "\n",
    "from datacube import Datacube\n",
    "from odc.stats.model import DateTimeRange\n",
    "from waterbodies.db import get_waterbodies_engine\n",
    "from waterbodies.hopper import create_tasks_from_scenes\n",
    "from waterbodies.io import check_directory_exists, find_geotiff_files\n",
    "from waterbodies.logs import logging_setup\n",
    "from waterbodies.surface_area_change import get_last_waterbody_observation_date\n",
    "from waterbodies.text import parse_tile_id_from_filename"
   ]
  },
  {
   "cell_type": "code",
   "execution_count": null,
   "id": "58450a47-5c9c-474c-acee-15743b46b96c",
   "metadata": {},
   "outputs": [],
   "source": [
    "verbose =1\n",
    "run_type = \"regular-update\"\n",
    "historical_extent_rasters_directory = \"s3://deafrica-services/waterbodies/v0.0.2/conflux/historical_extent_rasters/\""
   ]
  },
  {
   "cell_type": "code",
   "execution_count": null,
   "id": "9f520655-8531-4dc1-8e0e-fdde4cad9e3a",
   "metadata": {},
   "outputs": [],
   "source": [
    "# Set up logging.\n",
    "logging_setup(verbose)\n",
    "_log = logging.getLogger(__name__)"
   ]
  },
  {
   "cell_type": "code",
   "execution_count": null,
   "id": "ee21ed18-a651-4f1f-b798-9eba445e1fc1",
   "metadata": {},
   "outputs": [],
   "source": [
    "# Parse the temporal range\n",
    "if run_type != \"regular-update\" :\n",
    "    temporal_range_ = DateTimeRange(temporal_range)"
   ]
  },
  {
   "cell_type": "code",
   "execution_count": null,
   "id": "9a8b2648-aba7-4d60-9d0a-c4b044b4e133",
   "metadata": {},
   "outputs": [],
   "source": [
    "if not check_directory_exists(path=historical_extent_rasters_directory):\n",
    "    e = FileNotFoundError(f\"Directory {historical_extent_rasters_directory} does not exist!\")\n",
    "    _log.error(e)\n",
    "    raise e\n",
    "else:\n",
    "    historical_extent_rasters = find_geotiff_files(directory_path=historical_extent_rasters_directory)"
   ]
  },
  {
   "cell_type": "code",
   "execution_count": null,
   "id": "bd4e3a35-885b-487c-a154-ef106659d25e",
   "metadata": {},
   "outputs": [],
   "source": [
    "# Get the tile_ids for tiles that actually contain waterbodies.\n",
    "tile_ids_of_interest = [\n",
    "    parse_tile_id_from_filename(file_path=raster_file)\n",
    "    for raster_file in historical_extent_rasters\n",
    "]"
   ]
  },
  {
   "cell_type": "code",
   "execution_count": null,
   "id": "bb3b99c8-4e6e-4670-b017-3e166f1f1a64",
   "metadata": {},
   "outputs": [],
   "source": [
    "product = \"wofs_ls\""
   ]
  },
  {
   "cell_type": "code",
   "execution_count": null,
   "id": "8b990392-8f7c-44ac-a490-61f1776a3ab1",
   "metadata": {},
   "outputs": [],
   "source": [
    "# Connect to the waterbodies engine\n",
    "engine = get_waterbodies_engine()"
   ]
  },
  {
   "cell_type": "code",
   "execution_count": null,
   "id": "e4fb004c-bc13-450e-b5fc-0f01cbdfb5dd",
   "metadata": {},
   "outputs": [],
   "source": [
    "%%time\n",
    "# TODO: Check if this should be done here or should the time range be defined outside\n",
    "# this step then passed as to temporal-range parameter for this step\n",
    "# Get the date of the most recent waterbody observation\n",
    "last_observation_date = get_last_waterbody_observation_date(engine=engine)\n",
    "today = datetime.now()"
   ]
  },
  {
   "cell_type": "code",
   "execution_count": null,
   "id": "289e47fe-c418-468c-a22a-e6b79bb82eaa",
   "metadata": {},
   "outputs": [],
   "source": [
    "# Connect to the datacube\n",
    "dc = Datacube(app=\"regular-update\")"
   ]
  },
  {
   "cell_type": "code",
   "execution_count": null,
   "id": "e0a672ce-6934-4c0d-b8ad-9e644946e051",
   "metadata": {},
   "outputs": [],
   "source": [
    "# Define the datacube query \n",
    "dc_query = dict(product=product, time=(last_observation_date, today))\n",
    "dc_query"
   ]
  },
  {
   "cell_type": "code",
   "execution_count": null,
   "id": "46faf08f-83d8-404f-a6b9-9402bf045d56",
   "metadata": {},
   "outputs": [],
   "source": [
    "%%time\n",
    "# Query the datacube for all wofs_ls datasets whose acquisition times fall within\n",
    "# the temporal range specified.\n",
    "scenes = dc.find_datasets(**dc_query)"
   ]
  },
  {
   "cell_type": "code",
   "execution_count": null,
   "id": "7e333906-9abf-4b03-8239-5a00f493e2cb",
   "metadata": {},
   "outputs": [],
   "source": [
    "%%time\n",
    "tasks = create_tasks_from_scenes(scenes=scenes, tile_ids_of_interest=tile_ids_of_interest)"
   ]
  },
  {
   "cell_type": "code",
   "execution_count": null,
   "id": "0b6bd131-b097-49b4-bc0b-2a948baf4b65",
   "metadata": {},
   "outputs": [],
   "source": [
    "# View the first 100 tasks\n",
    "tasks[:100]"
   ]
  },
  {
   "cell_type": "code",
   "execution_count": null,
   "id": "c4946872-c178-4663-8b00-f76135f58958",
   "metadata": {},
   "outputs": [],
   "source": []
  }
 ],
 "metadata": {
  "kernelspec": {
   "display_name": "Python 3 (ipykernel)",
   "language": "python",
   "name": "python3"
  },
  "language_info": {
   "codemirror_mode": {
    "name": "ipython",
    "version": 3
   },
   "file_extension": ".py",
   "mimetype": "text/x-python",
   "name": "python",
   "nbconvert_exporter": "python",
   "pygments_lexer": "ipython3",
   "version": "3.10.12"
  }
 },
 "nbformat": 4,
 "nbformat_minor": 5
}
